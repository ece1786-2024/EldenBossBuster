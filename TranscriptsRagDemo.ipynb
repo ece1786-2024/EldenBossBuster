{
 "cells": [
  {
   "cell_type": "code",
   "execution_count": 8,
   "id": "12879370-a84e-4a01-b176-e823698af313",
   "metadata": {},
   "outputs": [],
   "source": [
    "from llama_index.core import Document\n",
    "from langchain.text_splitter import RecursiveCharacterTextSplitter"
   ]
  },
  {
   "cell_type": "code",
   "execution_count": 9,
   "id": "10ac00ea-6777-45f5-8537-d01f585836ca",
   "metadata": {},
   "outputs": [],
   "source": [
    "def load_text_file(file_path):\n",
    "    with open(file_path, \"r\", encoding=\"utf-8\") as file:\n",
    "        return file.read()\n",
    "\n",
    "file_1_path = \"data/structured_equipments_guides_cleaned.txt\"\n",
    "file_2_path = \"data/structured_guides_cleaned.txt\"\n",
    "text_1 = load_text_file(file_1_path)\n",
    "text_2 = load_text_file(file_2_path)\n",
    "combined_text = text_1 + \"\\n\" + text_2\n",
    "\n",
    "text_splitter = RecursiveCharacterTextSplitter(chunk_size=500, chunk_overlap=50)\n",
    "chunks = text_splitter.split_text(combined_text)\n",
    "\n",
    "documents = [Document(text=chunk) for chunk in chunks]"
   ]
  },
  {
   "cell_type": "code",
   "execution_count": 21,
   "id": "2815d575-9b01-43ca-8b25-3edabd1f9a25",
   "metadata": {},
   "outputs": [],
   "source": [
    "from llama_index.core import VectorStoreIndex"
   ]
  },
  {
   "cell_type": "code",
   "execution_count": 28,
   "id": "db657c88-3ef4-4629-a4a9-6143330b7df7",
   "metadata": {},
   "outputs": [],
   "source": [
    "index = VectorStoreIndex.from_documents(documents)"
   ]
  },
  {
   "cell_type": "code",
   "execution_count": 100,
   "id": "74ccdc2a-a612-4ac2-83c1-67e0511c4e52",
   "metadata": {},
   "outputs": [],
   "source": [
    "query_enginge = index.as_query_engine(response_mode=\"refine\", similarity_top_k=3, verbose = True)"
   ]
  },
  {
   "cell_type": "code",
   "execution_count": 101,
   "id": "4d030b0b-82ae-4ada-b49d-38ebf6e73e22",
   "metadata": {},
   "outputs": [],
   "source": [
    "response = query_enginge.query(\"What 5 Greatswords do you suggest to use to beat Rennala?\")"
   ]
  },
  {
   "cell_type": "code",
   "execution_count": 102,
   "id": "f6cf88e4-0c6b-49a0-8e13-f77b7b583b5f",
   "metadata": {},
   "outputs": [
    {
     "name": "stdout",
     "output_type": "stream",
     "text": [
      "The 5 Greatswords that are recommended to use in order to beat Rennala are:  \n",
      "1. Moonlight Blade  \n",
      "2. Lunar Requiem  \n",
      "3. Celestial Cleaver  \n",
      "4. Nightfall Edge  \n",
      "5. Silvermoon Slayer\n"
     ]
    }
   ],
   "source": [
    "print(response)"
   ]
  }
 ],
 "metadata": {
  "kernelspec": {
   "display_name": "Python 3 (ipykernel)",
   "language": "python",
   "name": "python3"
  },
  "language_info": {
   "codemirror_mode": {
    "name": "ipython",
    "version": 3
   },
   "file_extension": ".py",
   "mimetype": "text/x-python",
   "name": "python",
   "nbconvert_exporter": "python",
   "pygments_lexer": "ipython3",
   "version": "3.10.14"
  }
 },
 "nbformat": 4,
 "nbformat_minor": 5
}
