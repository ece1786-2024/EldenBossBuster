{
 "cells": [
  {
   "cell_type": "code",
   "execution_count": 170,
   "metadata": {},
   "outputs": [],
   "source": [
    "from llama_index.core import StorageContext, load_index_from_storage\n",
    "from llama_index.llms.openai import OpenAI\n",
    "import openai\n",
    "import os\n",
    "from dotenv import load_dotenv\n",
    "\n",
    "load_dotenv()\n",
    "openai.api_key = os.getenv(\"OPENAI_API_KEY\")\n",
    "os.environ[\"OPENAI_API_KEY\"] = openai.api_key"
   ]
  },
  {
   "cell_type": "code",
   "execution_count": 171,
   "metadata": {},
   "outputs": [],
   "source": [
    "class Answer_agent:\n",
    "    def __init__(self, history):\n",
    "        self.client = openai.OpenAI()\n",
    "        self.history = history\n",
    "        self.description = [\n",
    "            {\"role\": \"system\", \"content\": \"you are an expert in Elden Ring, answer the user's prompt\"},\n",
    "        ]\n",
    "\n",
    "    def answer(self):\n",
    "        response = self.client.chat.completions.create(\n",
    "            model=\"gpt-4o\",\n",
    "            messages=self.history + self.description,\n",
    "            max_tokens=1000,\n",
    "            n=1,\n",
    "            top_p=0.95,\n",
    "            frequency_penalty=0.2,\n",
    "            temperature=0.7\n",
    "        )\n",
    "        return response.choices[0].message.content"
   ]
  },
  {
   "cell_type": "code",
   "execution_count": 172,
   "metadata": {},
   "outputs": [],
   "source": [
    "class RAG_agent:\n",
    "    def __init__(self, index_path):\n",
    "        storage_context = StorageContext.from_defaults(persist_dir=index_path)\n",
    "        index = load_index_from_storage(storage_context)\n",
    "        llm = OpenAI(\n",
    "            model=\"gpt-4o\",\n",
    "            temperature=0.7,\n",
    "            top_p=0.95,\n",
    "            frequency_penalty=0.2,\n",
    "            num_outputs=1000,\n",
    "        )\n",
    "        self.query_engine = index.as_query_engine(response_mode=\"refine\", similarity_top_k=5, verbose = True, llm = llm)\n",
    "\n",
    "    def query(self, query):\n",
    "        return self.query_engine.query(query)\n"
   ]
  },
  {
   "cell_type": "code",
   "execution_count": 173,
   "metadata": {},
   "outputs": [],
   "source": [
    "class Query_agent:\n",
    "    # This agent takes user prompt and refine to a query for specific RAG agent\n",
    "    def __init__(self, description, history):\n",
    "        self.client = openai.OpenAI()\n",
    "        self.history = history\n",
    "        self.description = [\n",
    "            {\"role\": \"system\", \"content\": description},\n",
    "        ]\n",
    "\n",
    "    def create_query(self):\n",
    "        response = self.client.chat.completions.create(\n",
    "            model=\"gpt-4o\",\n",
    "            messages=self.history + self.description,\n",
    "            max_tokens=1000,\n",
    "            n=1,\n",
    "            top_p=0.95,\n",
    "            frequency_penalty=0.2,\n",
    "            temperature=0.7\n",
    "        )\n",
    "        return response.choices[0].message.content\n",
    "        "
   ]
  },
  {
   "cell_type": "code",
   "execution_count": 174,
   "metadata": {},
   "outputs": [],
   "source": [
    "class Response_agent:\n",
    "    # This agent takes the history and create the final response to user\n",
    "    def __init__(self, description, history):\n",
    "        self.client = openai.OpenAI()\n",
    "        self.messages = history\n",
    "        self.description = [\n",
    "            {\"role\": \"system\", \"content\": description},\n",
    "        ]\n",
    "\n",
    "    def respond(self):\n",
    "        response = self.client.chat.completions.create(\n",
    "            model=\"gpt-4o\",\n",
    "            messages=self.messages + self.description,\n",
    "            max_tokens=1000,\n",
    "            n=1,\n",
    "            top_p=0.95,\n",
    "            frequency_penalty=0.2,\n",
    "            temperature=0.7\n",
    "        )\n",
    "        return response.choices[0].message.content"
   ]
  },
  {
   "cell_type": "code",
   "execution_count": 175,
   "metadata": {},
   "outputs": [],
   "source": [
    "KEYWORD = \"ADDITIONAL_QUERY_REQUIRED\""
   ]
  },
  {
   "cell_type": "code",
   "execution_count": 176,
   "metadata": {},
   "outputs": [],
   "source": [
    "class EldenGuideSystem:\n",
    "    # The agent system that takes user prompt and return the final response\n",
    "    def __init__(self, strategy_agent, gameinfo_agent, \n",
    "                 strategy_query_description, \n",
    "                 gameinfo_query_description, \n",
    "                 loop_response_description, \n",
    "                 final_response_description):\n",
    "        self.messages = []\n",
    "        self.strategy_agent = strategy_agent\n",
    "        self.gameinfo_agent = gameinfo_agent\n",
    "        self.answer_agent = Answer_agent(self.messages)\n",
    "        self.strategy_query_agent = Query_agent(strategy_query_description, self.messages)\n",
    "        self.gameinfo_query_agent = Query_agent(gameinfo_query_description, self.messages)\n",
    "        self.loop_response_agent = Response_agent(loop_response_description, self.messages)\n",
    "        self.final_response_agent = Response_agent(final_response_description, self.messages)\n",
    "\n",
    "    def push_assistant_message(self, message):\n",
    "        self.messages.append({\n",
    "            \"role\": \"assistant\",\n",
    "            \"content\": message\n",
    "        })\n",
    "\n",
    "    def clear_messages(self):\n",
    "        self.messages = []\n",
    "\n",
    "    def run(self, prompt):\n",
    "        count = 0\n",
    "        self.messages.append({\"role\": \"user\", \"content\": prompt})\n",
    "        answer = self.answer_agent.answer()\n",
    "        self.push_assistant_message(answer)\n",
    "        while count < 3:\n",
    "            print(f\"Querying... {count}\")\n",
    "            strategy_query = self.strategy_query_agent.create_query()\n",
    "            strategy_response = self.strategy_agent.query(strategy_query)\n",
    "            self.push_assistant_message(\"Strategy query result: \" + str(strategy_response))\n",
    "            gameinfo_query = self.gameinfo_query_agent.create_query()\n",
    "            gameinfo_response = self.gameinfo_agent.query(gameinfo_query)\n",
    "            self.push_assistant_message(\"In-game data query result: \" + str(gameinfo_response))\n",
    "            loop_response = self.loop_response_agent.respond()\n",
    "            if KEYWORD in loop_response:\n",
    "                count += 1\n",
    "            else:\n",
    "                break\n",
    "\n",
    "        if count >= 3:\n",
    "            final_response = self.final_response_agent.respond()\n",
    "        else:\n",
    "            final_response = loop_response\n",
    "        return final_response\n"
   ]
  },
  {
   "cell_type": "code",
   "execution_count": 177,
   "metadata": {},
   "outputs": [],
   "source": [
    "def load_prompt(filename):\n",
    "    with open(f'agent_descriptions/{filename}.txt', 'r') as file:\n",
    "        return file.read().strip()\n",
    "\n",
    "STRATEGY_QUERY_DESCRIPTION = load_prompt('strategy_agent')\n",
    "GAMEINFO_QUERY_DESCRIPTION = load_prompt('gameinfo_agent')\n",
    "FINAL_RESPONSE_DESCRIPTION = load_prompt('final_agent')\n",
    "LOOP_RESPONSE_DESCRIPTION = load_prompt('loop_agent')"
   ]
  },
  {
   "cell_type": "code",
   "execution_count": 94,
   "metadata": {},
   "outputs": [],
   "source": [
    "# index paths\n",
    "strategy_path = \"index/strategy\"\n",
    "gameinfo_path = \"index/game\"\n",
    "altogether_path = \"index/altogether\""
   ]
  },
  {
   "cell_type": "code",
   "execution_count": 35,
   "metadata": {},
   "outputs": [],
   "source": [
    "strategy_agent = RAG_agent(strategy_path)\n",
    "gameinfo_agent = RAG_agent(gameinfo_path)"
   ]
  },
  {
   "cell_type": "code",
   "execution_count": 186,
   "metadata": {},
   "outputs": [],
   "source": [
    "prompt = \"I'm currently playing as a Level 35 Vagabond, focusing mainly on Strength and Vigor. I've been using the Greatsword, but I feel like my damage output isn't cutting it against bosses like Rennala, Queen of the Full Moon. I also keep getting one-shotted by some of her spells. Any tips on how to build my character more effectively or strategies to defeat her? Should I be investing in Magic resistance or maybe switch to a different weapon? Any help would be greatly appreciated!\""
   ]
  },
  {
   "cell_type": "code",
   "execution_count": 187,
   "metadata": {},
   "outputs": [
    {
     "name": "stdout",
     "output_type": "stream",
     "text": [
      "Querying... 0\n",
      "To effectively deal with Rennala, Queen of the Full Moon, as a Level 35 Vagabond focusing on Strength and Vigor, here are some consolidated tips based on your current situation:\n",
      "\n",
      "### Build and Equipment Adjustments:\n",
      "\n",
      "1. **Armor and Resistance:**\n",
      "   - Equip armor with high Magic Defense to mitigate her powerful spells. The **Carian Knight Set** is ideal if you have it.\n",
      "   - Consider using a shield with high Magic resistance. The **Carian Knight's Shield** is a good option and can be found in Raya Lucaria Academy in the graveyard area.\n",
      "\n",
      "2. **Stat Allocation:**\n",
      "   - Continue prioritizing Vigor to increase your HP and survivability.\n",
      "   - Consider allocating points into Endurance for better stamina management and to handle heavier armor or shields for additional protection.\n",
      "\n",
      "3. **Weapon Upgrades:**\n",
      "   - Ensure your Greatsword is upgraded as much as possible using Smithing Stones to maximize damage output.\n",
      "   - If available, experiment with faster weapons or those with magic scaling for potentially better results against Rennala's resistances.\n",
      "\n",
      "### Combat Strategy:\n",
      "\n",
      "1. **First Phase:**\n",
      "   - Focus on breaking the protective barriers created by the glowing students to bring Rennala down. Use this opportunity to deal substantial damage with your Greatsword.\n",
      "   \n",
      "2. **Second Phase:**\n",
      "   - Maintain mobility and learn her spell-casting patterns for effective dodging.\n",
      "   - Target her after she performs large spells or summons spirits, utilizing the recovery windows to attack.\n",
      "\n",
      "### Additional Tips:\n",
      "\n",
      "- **Spirit Ashes:** Summon allies to distract Rennala and her summons, providing opportunities for you to attack.\n",
      "- **Consumables:** Use items that boost Magic resistance or overall defense during the fight.\n",
      "- **Patience and Practice:** Understanding her attack patterns and timing is crucial, especially in the second phase.\n",
      "\n",
      "Following these strategies should help you improve your chances against Rennala. Remember, adjusting your approach based on your equipment and play style is key in challenging boss fights like this one. Good luck!\n"
     ]
    }
   ],
   "source": [
    "system = EldenGuideSystem(strategy_agent, gameinfo_agent,\n",
    "                          STRATEGY_QUERY_DESCRIPTION,\n",
    "                          GAMEINFO_QUERY_DESCRIPTION,\n",
    "                          LOOP_RESPONSE_DESCRIPTION,\n",
    "                          FINAL_RESPONSE_DESCRIPTION)\n",
    "response = system.run(prompt)\n",
    "print(response)"
   ]
  },
  {
   "cell_type": "code",
   "execution_count": 188,
   "metadata": {},
   "outputs": [
    {
     "name": "stdout",
     "output_type": "stream",
     "text": [
      "{'role': 'user', 'content': \"I'm currently playing as a Level 35 Vagabond, focusing mainly on Strength and Vigor. I've been using the Greatsword, but I feel like my damage output isn't cutting it against bosses like Rennala, Queen of the Full Moon. I also keep getting one-shotted by some of her spells. Any tips on how to build my character more effectively or strategies to defeat her? Should I be investing in Magic resistance or maybe switch to a different weapon? Any help would be greatly appreciated!\"}\n",
      "{'role': 'assistant', 'content': \"To tackle Rennala, Queen of the Full Moon, with your Level 35 Vagabond focusing on Strength and Vigor, here are some tips and strategies to improve your chances of success:\\n\\n### Build Adjustments:\\n\\n1. **Armor and Resistance:**\\n   - Since you're getting one-shotted by her spells, consider boosting your Magic Resistance. Equip armor with high Magic Defense. The **Carian Knight Set** is a solid choice if you have it.\\n   - Use a shield with good Magic resistance if you prefer blocking over dodging. The **Carian Knight's Shield** can be effective here.\\n\\n2. **Stat Allocation:**\\n   - While Strength and Vigor are your main focus, consider investing a few points in Endurance to improve your stamina and equip load, allowing for better dodging or heavier armor.\\n   - If you have access to any talismans that boost Magic resistance or overall defense, consider equipping them.\\n\\n### Weapon Considerations:\\n\\n1. **Greatsword Usage:**\\n   - The Greatsword is a powerful weapon, but make sure it's upgraded as much as possible using Smithing Stones.\\n   - Use heavy attacks during openings in her first phase and be cautious in the second phase.\\n\\n2. **Alternative Weapons:**\\n   - If you have a weapon with Magic damage or scaling, it might be worth considering since Rennala is more resistant to physical damage.\\n   - Consider a faster weapon to give you more mobility and quicker recovery during her spellcasting.\\n\\n### Strategy for Rennala:\\n\\n1. **Phase One:**\\n   - Focus on breaking the golden shields of the students who are casting protective spells around her. They will be glowing; once you break enough, she will fall to the ground.\\n   - Use this time to deal as much damage as possible before she resumes her protective stance.\\n\\n2. **Phase Two:**\\n   - Stay mobile and watch for her spell-casting animations. Dodging is often more reliable than blocking due to the high magic damage.\\n   - Summons can be challenging; try to avoid them rather than engage directly.\\n   - Look for openings after she casts larger spells like the Moonbeam or summons spirits; these have long recovery times.\\n\\n### General Tips:\\n\\n- **Summons:** Utilize Spirit Ashes if you have them upgraded, as they can provide distractions and additional damage output.\\n- **Consumables:** Stock up on Magic-resistant consumables or buffs that can reduce incoming magic damage.\\n- **Practice Patience:** Learn her patterns and be patient. Her second phase is more about learning when it's safe to attack rather than overwhelming her with damage.\\n\\nBy making these adjustments and focusing on timing and strategy, you should find it easier to manage Rennala's attacks and eventually defeat her. Good luck!\"}\n",
      "{'role': 'assistant', 'content': 'Strategy query result: For a Level 35 Vagabond with a Strength and Vigor build against Rennala in Elden Ring, focus on using weapons that scale with Strength, such as the Greatsword, to boost your damage. Equip armor that provides good magic resistance, like the Carian Knight Set, to protect against her spells. Alternatively, use a shield with high magic resistance. Ensure your Vigor is high enough to endure her attacks and maintain good positioning to dodge her spells effectively.'}\n",
      "{'role': 'assistant', 'content': 'In-game data query result: The Carian Knight Shield can be found in the Raya Lucaria Academy. To locate it, fast travel to the Church of the Cuckoo site and explore the surrounding area, particularly in the graveyard section where the large rotating lift is present.'}\n"
     ]
    }
   ],
   "source": [
    "for message in system.messages:\n",
    "    print(message)\n"
   ]
  },
  {
   "cell_type": "code",
   "execution_count": 183,
   "metadata": {},
   "outputs": [
    {
     "name": "stdout",
     "output_type": "stream",
     "text": [
      "Querying... 0\n",
      "Here's a detailed build for your level 100 katana character to effectively take on Malenia, focusing on bleed damage and agility:\n",
      "\n",
      "### Stats Allocation:\n",
      "- **Vigor:** 40-50 (for survivability)\n",
      "- **Mind:** 15-20 (enough to use skills and spirit summons)\n",
      "- **Endurance:** 20-25 (to manage stamina for dodging and attacking)\n",
      "- **Strength:** Meet the minimum requirement for your chosen katana\n",
      "- **Dexterity:** 50+ (primary damage stat for katanas)\n",
      "- **Intelligence/Faith/Arcane:** Allocate only if your weapon scales with these stats\n",
      "\n",
      "### Weapon:\n",
      "- **Rivers of Blood:** This katana is excellent for its bleed potential and the Corpse Piler skill, which deals heavy damage and builds up bleed quickly.\n",
      "- **Moonveil:** If you prefer a mix of magic and physical attacks, Moonveil's Transient Moonlight skill can be very powerful.\n",
      "\n",
      "### Ashes of War:\n",
      "- Use the katana's innate skill if you're wielding Rivers of Blood or Moonveil. Otherwise, consider **Bloody Slash** or **Seppuku** for additional bleed damage.\n",
      "\n",
      "### Armor:\n",
      "- Aim for light to medium armor that allows for fast rolling:\n",
      "  - **Black Knife Set** provides good protection while maintaining mobility.\n",
      "  - Mix pieces like **Raptor's Black Feathers** to boost jump attack damage if you use jump attacks frequently.\n",
      "  \n",
      "### Talismans:\n",
      "- **Erdtree's Favor +1/+2:** Increases HP, stamina, and equip load.\n",
      "- **Green Turtle Talisman:** Boosts stamina recovery speed.\n",
      "- **Lord of Blood’s Exultation:** Increases attack power when blood loss occurs nearby.\n",
      "- **Shard of Alexander:** Enhances weapon skill damage.\n",
      "\n",
      "### Strategy Against Malenia:\n",
      "\n",
      "1. **Learn Her Patterns:** Malenia has a complex moveset; understanding her attack patterns is key to avoiding damage.\n",
      "2. **Bleed Focused Attacks:** Use your katana's bleed capabilities to deal significant damage over time. The Rivers of Blood katana is particularly effective here.\n",
      "3. **Dodging Waterfowl Dance:** This is one of her most dangerous attacks. Practice dodging it or use terrain to avoid it.\n",
      "4. **Use Summons Wisely:** Summon Spirit Ashes like Mimic Tear or Black Knife Tiche to distract her and create openings for you to attack.\n",
      "5. **Phase Two Awareness:** Her second phase introduces more aggressive attacks. Keep your distance during her Scarlet Aeonia move and capitalize on openings immediately after.\n",
      "\n",
      "This setup should give you a strong fighting chance against Malenia by leveraging high bleed damage and maintaining agility for dodging her attacks. Good luck!\n"
     ]
    }
   ],
   "source": [
    "feedback = \"I want specific build, including talismans, armors, etc.\"\n",
    "response = system.run(feedback)\n",
    "print(response)\n"
   ]
  },
  {
   "cell_type": "code",
   "execution_count": 185,
   "metadata": {},
   "outputs": [
    {
     "name": "stdout",
     "output_type": "stream",
     "text": [
      "{'role': 'user', 'content': \"I'm level 100 now, I want to use a kanata to defeat Malenia, recommend me a build.\"}\n",
      "{'role': 'assistant', 'content': \"Congratulations on reaching level 100! Using a katana to defeat Malenia is a great choice, as katanas offer a good balance of speed, reach, and bleed damage potential. Here's a build recommendation to help you take her down:\\n\\n### Stats Allocation:\\n- **Vigor:** 40-50 (High vigor is essential to survive Malenia's powerful attacks)\\n- **Mind:** 15-20 (Ensure you have enough FP for Ashes of War and Spirit Summons)\\n- **Endurance:** 20-30 (Enough stamina to dodge and attack effectively)\\n- **Strength:** Base requirement for the katana you choose\\n- **Dexterity:** 50+ (Primary damage stat for katanas)\\n- **Intelligence/Faith/Arcane:** Only invest if your chosen katana or Ash of War scales with these\\n\\n### Weapon:\\n- **Katana Options:**\\n  - **Uchigatana:** A solid choice with good bleed buildup.\\n  - **Moonveil:** Excellent for its mix of physical and magic damage, plus its Transient Moonlight skill.\\n  - **Nagakiba:** Longer reach makes it safer to engage Malenia.\\n  - **Rivers of Blood:** Known for its Corpse Piler skill, which deals heavy bleed damage.\\n\\n### Ashes of War:\\n- Consider using **Bloody Slash** or **Seppuku** to boost your bleed potential if you're using a bleed-focused katana like Uchigatana or Nagakiba.\\n\\n### Armor:\\n- Choose light to medium armor that allows for fast rolling. Prioritize gear that provides decent poise and protection while keeping you under the 70% equip load threshold.\\n\\n### Talismans:\\n- **Erdtree's Favor:** Boosts HP, stamina, and equip load.\\n- **Green Turtle Talisman:** Increases stamina recovery speed.\\n- **Lord of Blood's Exultation:** Boosts attack power when there is blood loss nearby.\\n- **Radagon's Scarseal/Soreseal (if needed):** Boosts several stats but increases damage taken.\\n\\n### Strategy:\\n1. **Learn her moveset:** Malenia is aggressive and has a wide range of attacks. Understanding her patterns will help you dodge effectively.\\n2. **Bleed Focus:** Use the bleed buildup from your katana to deal significant damage over time.\\n3. **Dodge Waterfowl Dance:** This is one of Malenia’s most deadly attacks. Learn the timing to dodge it effectively or use pillars/terrain to block it.\\n4. **Summon Spirits:** Consider using Spirit Ashes like Black Knife Tiche or Mimic Tear to distract her and provide openings.\\n5. **Phase Two Awareness:** In her second phase, be cautious of her Scarlet Aeonia attack and increased aggression.\\n\\nRemember to remain patient and persistent. Good luck with your fight against Malenia!\"}\n",
      "{'role': 'assistant', 'content': \"Strategy query result: For a level 100 katana build to defeat Malenia in Elden Ring, focus on optimizing both Strength and Dexterity to wield katanas effectively, such as the Serpentbone Blade. This weapon features a unique dual-hit R2 attack and can be enhanced using smithing stones. Choose an Ash of War that complements your fighting style, especially those that enhance speed or add damage effects, while considering the limited Ash of War options for the Serpentbone Blade. Select armor that balances physical and elemental defense while allowing for agility, with a preference for light to medium armor to enhance dodging capabilities. Equip talismans that boost attack power, stamina recovery, or health regeneration, and consider those that enhance dexterity or provide benefits at low health. To triumph over Malenia, study her attack patterns and exploit openings following her combos. Utilize the katana's range and speed to your advantage, and be prepared to evade her Waterfowl Dance due to its significant damage potential. Maintaining a safe distance and timing your attacks wisely is crucial for success.\"}\n",
      "{'role': 'assistant', 'content': 'In-game data query result: The Serpentbone Blade is a katana that inflicts poison, with a passive effect of (66) Poison. Information about its location is not provided.'}\n",
      "{'role': 'assistant', 'content': \"Strategy query result: For a Level 100 katana build to tackle the Malenia fight in Elden Ring, consider these strategies:\\n\\n1. **Best Katana Choice**: Opt for a katana that offers a balance of speed and damage. Many players prefer using the Moonveil Katana for its strong special attacks and magic scaling.\\n\\n2. **Effective Ash of War**: Equip an Ash of War that enhances your katana's capabilities. The Unsheathe Ash of War is popular for its powerful and quick draw attack, allowing you to deal significant damage in brief windows of opportunity.\\n\\n3. **Armor and Talisman Recommendations**: Choose armor that provides a good balance between poise and agility, enabling you to withstand some hits while maintaining mobility. Talismans that boost dexterity or provide health regeneration can be particularly useful. The Green Turtle Talisman can help with stamina recovery, crucial for maintaining offensive pressure and dodging.\\n\\n4. **Dodge Techniques for Waterfowl Dance**: For dodging Malenia's Waterfowl Dance, focus on timing your dodges precisely. It's often effective to move backwards initially, then dodge towards her to avoid the follow-up strikes.\\n\\n5. **Phase Two Strategy**: In the second phase, prioritize maintaining distance to avoid her new attacks. Look for openings after her more extended combos to counter-attack, and keep an eye on her health recovery mechanics to minimize her healing opportunities.\"}\n",
      "{'role': 'assistant', 'content': 'In-game data query result: The description of the Serpentbone Blade is that it is a sinister katana modeled after a serpent bone, featuring a densely packed row of spines jutting away from the cutting edge, which are coated in a lethal poison. Information about its location is not provided.'}\n",
      "{'role': 'user', 'content': 'I want specific build, including talismans, armors, etc.'}\n",
      "{'role': 'assistant', 'content': \"For a level 100 katana build to defeat Malenia, let's focus on a setup that emphasizes bleed damage, agility, and survivability. Here’s a detailed guide including stats, equipment, and strategy:\\n\\n### Stats Allocation:\\n- **Vigor:** 40-50\\n- **Mind:** 15-20\\n- **Endurance:** 20-25\\n- **Strength:** Base requirement for your katana\\n- **Dexterity:** 50+ (primary damage stat)\\n- **Intelligence/Faith/Arcane:** Minimal unless your katana scales with these\\n\\n### Weapon:\\n- **Katana Choice:**\\n  - **Rivers of Blood:** Excellent for bleed damage with its Corpse Piler skill.\\n  - **Moonveil:** Offers a mix of magic and physical damage with its Transient Moonlight skill.\\n  - **Uchigatana/Nagakiba:** Good bleed buildup with more straightforward scaling.\\n\\n### Ashes of War:\\n- If not using Rivers of Blood or Moonveil, consider **Bloody Slash** or **Seppuku** for bleed katanas.\\n\\n### Armor:\\n- Choose light to medium armor to ensure fast rolling. Some good options are:\\n  - **Black Knife Set:** Offers good protection and agility.\\n  - **Raptor's Black Feathers:** Boosts jump attack damage if you plan on utilizing jump attacks.\\n  - Mix and match other pieces like the Bull-Goat or Blaidd's Armor for additional poise while keeping under the weight limit for fast rolls.\\n\\n### Talismans:\\n- **Erdtree's Favor +1/+2:** Boosts HP, stamina, and equip load.\\n- **Green Turtle Talisman:** Increases stamina recovery speed.\\n- **Lord of Blood’s Exultation:** Boosts attack power when blood loss occurs nearby.\\n- **Radagon’s Scarseal/Soreseal (optional):** Increases several stats but also increases damage taken.\\n\\n### Strategy Against Malenia:\\n\\n1. **Learn Her Patterns:** Malenia has a variety of fast and strong attacks. Study her moveset to time your dodges accurately.\\n\\n2. **Bleed Focused Attacks:** Use your katana's bleed effects to chip away at her health. The Rivers of Blood katana is particularly effective due to its Corpse Piler skill.\\n\\n3. **Dodging Waterfowl Dance:** This is one of her deadliest attacks. It’s often best to run away or dodge at precise moments to avoid getting hit by the full combo.\\n\\n4. **Summon Assistance:** Use Spirit Ashes like Mimic Tear or Black Knife Tiche to help distract her and open up attack windows.\\n\\n5. **Phase Two Adaptation:** When she transitions, be ready for her new moves including Scarlet Aeonia. Keep your distance during this attack and move in quickly afterward for counterattacks.\\n\\n6. **Maintain Stamina Management:** Keep an eye on your stamina bar, especially while dodging and attacking. The Green Turtle Talisman will help with recovery.\\n\\n7. **Use Buffs Wisely:** Utilize consumables like Blood Grease or Boiled Crab for extra defense if needed.\\n\\nWith patience and practice, this build should serve you well in your battle against Malenia. Good luck!\"}\n",
      "{'role': 'assistant', 'content': \"Strategy query result: For a level 100 katana build aimed at defeating Malenia with a focus on maximizing bleed damage and agility, consider the following setup:\\n\\n**Weapon:**\\n- Utilize katanas like the Uchigatana or Rivers of Blood for their effective bleed buildup capabilities.\\n\\n**Talismans:**\\n- Equip the Lord of Blood's Exultation to increase attack power when blood loss is nearby.\\n- Use the Shard of Alexander to boost weapon skill damage.\\n- Consider the Green Turtle Talisman for enhanced stamina recovery, aiding in agility.\\n- The Carian Filigreed Crest can help reduce the FP cost of weapon skills, allowing for more frequent usage.\\n\\n**Armor:**\\n- Choose armor that offers a good balance between protection and weight, prioritizing lighter sets to enhance agility and dodge ability. Armor with high robustness is beneficial for resisting bleed buildup from enemy attacks.\\n\\nThis build helps enhance both your bleed damage output and your agility, which are crucial for effectively battling Malenia.\"}\n",
      "{'role': 'assistant', 'content': 'In-game data query result: The \"Rivers of Blood\" weapon in Elden Ring features a passive effect of causing Hemorrhage with a value of 50. Information about its location and description is not provided.'}\n"
     ]
    }
   ],
   "source": [
    "for message in system.messages:\n",
    "    print(message)\n"
   ]
  },
  {
   "cell_type": "code",
   "execution_count": 182,
   "metadata": {},
   "outputs": [
    {
     "name": "stdout",
     "output_type": "stream",
     "text": [
      "Congratulations on reaching level 100! Facing Malenia in Elden Ring with a katana can be both challenging and rewarding. Here is a suggested build to help you defeat her:\n",
      "\n",
      "### Attributes:\n",
      "1. **Vigor**: Aim for around 40-50. Malenia hits hard, so having a good health pool is essential.\n",
      "2. **Mind**: Around 20-25 should suffice, especially if you plan to use skills that consume FP.\n",
      "3. **Endurance**: 25-30 to ensure you have enough stamina for dodging and attacking.\n",
      "4. **Strength**: Minimum required for your katana of choice (typically around 12-18).\n",
      "5. **Dexterity**: Invest most of your points here, aiming for at least 40-50, since katanas scale well with Dexterity.\n",
      "6. **Intelligence/Faith/Arcane**: Allocate points according to any specific Ashes of War or incantations you plan to use.\n",
      "\n",
      "### Weapon:\n",
      "- **Katana Choice**: The Uchigatana, Nagakiba, or Moonveil are popular choices. Moonveil is particularly potent due to its unique skill, Transient Moonlight, which can deal significant damage at range.\n",
      "- **Ashes of War**: Consider using an Ash of War that complements your playstyle. Seppuku can be effective for increasing bleed damage, while others like Unsheathe are excellent for direct attacks.\n",
      "\n",
      "### Armor:\n",
      "- Wear light to medium armor to maintain agility and quick roll speed. Prioritize armor sets that enhance Dexterity or offer good damage negation without compromising mobility.\n",
      "\n",
      "### Talismans:\n",
      "1. **Erdtree’s Favor**: Boosts HP, stamina, and equip load.\n",
      "2. **Green Turtle Talisman**: Increases stamina recovery speed.\n",
      "3. **Lord of Blood’s Exultation**: Boosts attack power when there’s blood loss nearby, synergizing well with bleed builds.\n",
      "4. **Millicent's Prosthesis** or **Rotten Winged Sword Insignia**: Increases attack power with successive attacks.\n",
      "\n",
      "### Strategy:\n",
      "1. **Learn Her Moveset**: Spend time understanding Malenia's attack patterns and dodge timings.\n",
      "2. **Bleed Build-Up**: Focus on building up bleed status as it can deal massive damage once it procs.\n",
      "3. **Stay Aggressive but Cautious**: Apply constant pressure but always be ready to dodge her flurry of attacks.\n",
      "4. **Manage Distance**: Use your katana’s reach and Ashes of War effectively to deal damage from a safe distance when possible.\n",
      "5. **Summons**: Consider summoning Spirit Ashes like the Mimic Tear or Black Knife Tiche to help distract her and deal additional damage.\n",
      "\n",
      "Remember, practice makes perfect with bosses like Malenia, so don’t get discouraged if it takes a few attempts to get your strategy right! Good luck!\n"
     ]
    }
   ],
   "source": [
    "\n",
    "client = openai.OpenAI()\n",
    "\n",
    "description = [\n",
    "    {\"role\": \"user\", \"content\": \"I'm level 100 now, I want to use a kanata to defeat Malenia, recommend me a build.\"},\n",
    "]\n",
    "\n",
    "response = client.chat.completions.create(\n",
    "    model=\"gpt-4o\",\n",
    "    messages=description,\n",
    "    max_tokens=1000,\n",
    "    n=1,\n",
    "    top_p=0.95,\n",
    "    frequency_penalty=0.2,\n",
    "    temperature=0.7\n",
    ")\n",
    "\n",
    "print(response.choices[0].message.content)"
   ]
  }
 ],
 "metadata": {
  "kernelspec": {
   "display_name": "elden",
   "language": "python",
   "name": "python3"
  },
  "language_info": {
   "codemirror_mode": {
    "name": "ipython",
    "version": 3
   },
   "file_extension": ".py",
   "mimetype": "text/x-python",
   "name": "python",
   "nbconvert_exporter": "python",
   "pygments_lexer": "ipython3",
   "version": "3.12.7"
  }
 },
 "nbformat": 4,
 "nbformat_minor": 2
}
