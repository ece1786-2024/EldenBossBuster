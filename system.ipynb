{
 "cells": [
  {
   "cell_type": "code",
   "execution_count": null,
   "metadata": {},
   "outputs": [],
   "source": [
    "from llama_index.core import StorageContext, load_index_from_storage\n",
    "from llama_index.llms.openai import OpenAI\n",
    "import openai\n",
    "import os\n",
    "from dotenv import load_dotenv\n",
    "\n",
    "load_dotenv()\n",
    "openai.api_key = os.getenv(\"OPENAI_API_KEY\")"
   ]
  },
  {
   "cell_type": "code",
   "execution_count": null,
   "metadata": {},
   "outputs": [],
   "source": [
    "# index paths\n",
    "strategy_path = \"../index/strategy\"\n",
    "gameinfo_path = \"../index/game\"\n",
    "altogether_path = \"../index/altogether\""
   ]
  },
  {
   "cell_type": "code",
   "execution_count": null,
   "metadata": {},
   "outputs": [],
   "source": [
    "class RAG_agent:\n",
    "    def __init__(self, index_path):\n",
    "        storage_context = StorageContext.from_defaults(persist_dir=index_path)\n",
    "        index = load_index_from_storage(storage_context)\n",
    "        llm = OpenAI(\n",
    "            model=\"gpt-4o\",\n",
    "            temperature=0.7,\n",
    "            top_p=0.95,\n",
    "            frequency_penalty=0.2,\n",
    "            num_outputs=1000,\n",
    "        )\n",
    "        self.query_engine = index.as_query_engine(response_mode=\"refine\", similarity_top_k=5, verbose = True, llm = llm)\n",
    "\n",
    "    def refine_prompt(self, query):\n",
    "        return self.query_engine.query(query)\n"
   ]
  },
  {
   "cell_type": "code",
   "execution_count": null,
   "metadata": {},
   "outputs": [],
   "source": [
    "# agent to refine original prompt\n",
    "prompt_refine_agent = openai.OpenAI(api_key=openai.api_key)\n",
    "\n",
    "original_query= \"Recommended full set of equipment for playing with Unsheathe to beat Margit\"\n",
    "\n",
    "messages = [\n",
    "    {\"role\": \"system\",\n",
    "    \"content\": \"You are a prompt refining agent that helps to refine the prompt to another agent. \\\n",
    "        The job of the other agent is to recommend strategy based on player's status.\\\n",
    "        The game is Elden Ring. \\\n",
    "        Please use vocabularies from the Elden Ring to refine the prompt when suitable.\\\n",
    "        Given the below prompt, refine it so it is better to be feed into the recommendation agent that recommend a strategy.\"\n",
    "    },\n",
    "    {\n",
    "    \"role\": \"user\", \n",
    "    \"content\": f\"{original_query}\"\n",
    "    }\n",
    "]\n",
    "response = prompt_refine_agent.chat.completions.create(\n",
    "    model=\"gpt-4o\",\n",
    "    messages=messages,\n",
    "    max_tokens=1000,\n",
    "    n=1,\n",
    "    top_p=0.95,\n",
    "    frequency_penalty=0.2,\n",
    "    temperature=0.7\n",
    ")\n",
    "\n",
    "query_to_recommendation_agent = response.choices[0].message.content\n",
    "print(query_to_recommendation_agent)"
   ]
  },
  {
   "cell_type": "code",
   "execution_count": null,
   "metadata": {},
   "outputs": [],
   "source": [
    "print(response)"
   ]
  }
 ],
 "metadata": {
  "kernelspec": {
   "display_name": "elden",
   "language": "python",
   "name": "python3"
  },
  "language_info": {
   "name": "python",
   "version": "3.12.7"
  }
 },
 "nbformat": 4,
 "nbformat_minor": 2
}
