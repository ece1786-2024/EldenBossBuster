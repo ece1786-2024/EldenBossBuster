{
 "cells": [
  {
   "cell_type": "code",
   "execution_count": 21,
   "metadata": {},
   "outputs": [],
   "source": [
    "from llama_index.core import StorageContext, load_index_from_storage\n",
    "from llama_index.llms.openai import OpenAI\n",
    "import openai\n",
    "import os\n",
    "from dotenv import load_dotenv\n",
    "\n",
    "load_dotenv()\n",
    "openai.api_key = os.getenv(\"OPENAI_API_KEY\")\n",
    "os.environ[\"OPENAI_API_KEY\"] = openai.api_key"
   ]
  },
  {
   "cell_type": "code",
   "execution_count": 23,
   "metadata": {},
   "outputs": [],
   "source": [
    "class RAG_agent:\n",
    "    def __init__(self, index_path):\n",
    "        storage_context = StorageContext.from_defaults(persist_dir=index_path)\n",
    "        index = load_index_from_storage(storage_context)\n",
    "        llm = OpenAI(\n",
    "            model=\"gpt-4o\",\n",
    "            temperature=0.7,\n",
    "            top_p=0.95,\n",
    "            frequency_penalty=0.2,\n",
    "            num_outputs=1000,\n",
    "        )\n",
    "        self.query_engine = index.as_query_engine(response_mode=\"refine\", similarity_top_k=5, verbose = True, llm = llm)\n",
    "\n",
    "    def query(self, query):\n",
    "        return self.query_engine.query(query)\n"
   ]
  },
  {
   "cell_type": "code",
   "execution_count": 24,
   "metadata": {},
   "outputs": [],
   "source": [
    "class Query_agent:\n",
    "    # This agent takes user prompt and refine to a query for specific RAG agent\n",
    "    def __init__(self, description, history=[]):\n",
    "        self.client = OpenAI() # TODO openai.OpenAI()\n",
    "        self.messages = history + [\n",
    "            {\"role\": \"system\", \"content\": description},\n",
    "            {\"role\": \"user\", \"content\": \"\"}\n",
    "        ]\n",
    "\n",
    "    def create_query(self, prompt):\n",
    "        self.messages[1][\"content\"] = prompt\n",
    "        response = self.client.chat.completions.create(\n",
    "            model=\"gpt-4o\",\n",
    "            messages=self.messages,\n",
    "            max_tokens=1000,\n",
    "            n=1,\n",
    "            top_p=0.95,\n",
    "            frequency_penalty=0.2,\n",
    "            temperature=0.7\n",
    "        )\n",
    "        return response.choices[0].message.content\n",
    "        "
   ]
  },
  {
   "cell_type": "code",
   "execution_count": 25,
   "metadata": {},
   "outputs": [],
   "source": [
    "class Response_agent:\n",
    "    # This agent takes the history and create the final response to user\n",
    "    def __init__(self, description, history):\n",
    "        self.client = OpenAI() # TODO openai.OpenAI()\n",
    "        self.messages = history\n",
    "        self.description = [\n",
    "            {\"role\": \"system\", \"content\": description},\n",
    "        ]\n",
    "\n",
    "    def respond(self):\n",
    "        print(self.messages)\n",
    "        response = self.client.chat.completions.create(\n",
    "            model=\"gpt-4o\",\n",
    "            messages=self.messages,\n",
    "            max_tokens=1000,\n",
    "            n=1,\n",
    "            top_p=0.95,\n",
    "            frequency_penalty=0.2,\n",
    "            temperature=0.7\n",
    "        )\n",
    "        return response.choices[0].message.content"
   ]
  },
  {
   "cell_type": "code",
   "execution_count": 26,
   "metadata": {},
   "outputs": [],
   "source": [
    "strategy_query_description = \"\"\"You are a Strategy Query Refinement Agent.\n",
    "Your primary function is to interpret the user's prompts related to \n",
    "gameplay strategies, character builds, or weapon recommendations in Elden Ring. \n",
    "You focus on understanding the user's goals, preferences, and challenges. You \n",
    "then refine and formulate an effective query tailored to retrieve relevant \n",
    "information from the \"YouTuber Strategy and Weapon Recommendations\" vector store. \n",
    "By crafting precise queries, you enhance the RAG process, ensuring that the most \n",
    "pertinent strategic insights are fetched on behalf of the user.\"\"\""
   ]
  },
  {
   "cell_type": "code",
   "execution_count": 27,
   "metadata": {},
   "outputs": [],
   "source": [
    "gameinfo_query_description = \"\"\"You are an In-Game Data Query Refinement Agent.\n",
    "Specializing in in-game data retrieval, you analyze the user's requests for \n",
    "specific information about items, such as locations, weights, prices, or stats \n",
    "within Elden Ring. Your role is to comprehend the exact details the user is \n",
    "seeking and refine the query accordingly. You construct an optimized search query \n",
    "to access the required information from the \"In-Game Data\" vector store sourced \n",
    "from the Elden Ring wiki. By focusing on precise query formulation, you facilitate \n",
    "the RAG process to deliver accurate in-game data on behalf of the user.\"\"\""
   ]
  },
  {
   "cell_type": "code",
   "execution_count": 28,
   "metadata": {},
   "outputs": [],
   "source": [
    "final_response_description = \"\"\"You are an intelligent response agent tasked with \n",
    "generating clear and helpful answers to the user's initial prompts by effectively \n",
    "utilizing the query results obtained from the RAG process. With access to the \n",
    "complete message history—including the user's original question and the information \n",
    "retrieved from both the \"YouTuber Strategy and Weapon Recommendations\" and \"In-Game \n",
    "Data\" vector stores—you analyze the relevance and accuracy of the retrieved \n",
    "information. Your goal is to construct informed responses that integrate pertinent \n",
    "data to provide comprehensive and useful answers. If the query results are \n",
    "irrelevant or insufficient, you recognize this and avoid confusing the user, opting \n",
    "instead to inform them that specific information is not available or to ask \n",
    "clarifying questions. By intelligently handling both relevant and irrelevant query \n",
    "results, you ensure the user receives meaningful assistance without unnecessary \n",
    "confusion, enhancing their experience with the Elden Ring game guide system.\"\"\""
   ]
  },
  {
   "cell_type": "code",
   "execution_count": 29,
   "metadata": {},
   "outputs": [],
   "source": [
    "class EldenGuideSystem:\n",
    "    def __init__(self, strategy_agent, gameinfo_agent):\n",
    "        self.messages = []\n",
    "        self.strategy_agent = strategy_agent\n",
    "        self.gameinfo_agent = gameinfo_agent\n",
    "        self.strategy_query_agent = Query_agent(strategy_query_description)\n",
    "        self.gameinfo_query_agent = Query_agent(gameinfo_query_description)\n",
    "        self.final_response_agent = Response_agent(final_response_description, self.messages)\n",
    "\n",
    "    def push_assistant_message(self, message):\n",
    "        self.messages.append({\n",
    "            \"role\": \"assistant\",\n",
    "            \"content\": message\n",
    "        })\n",
    "\n",
    "    def run(self, prompt):\n",
    "        strategy_query = self.strategy_query_agent.create_query(prompt)\n",
    "        strategy_response = self.strategy_agent.query(strategy_query)\n",
    "        self.push_assistant_message(strategy_response)\n",
    "        gameinfo_query = self.gameinfo_query_agent.create_query(prompt)\n",
    "        gameinfo_response = self.gameinfo_agent.query(gameinfo_query)\n",
    "        self.push_assistant_message(gameinfo_response)\n",
    "        print(self.final_response_agent.messages)\n",
    "        return \"test\"\n",
    "        # final_response = self.final_response_agent.respond()\n",
    "        # return final_response\n"
   ]
  },
  {
   "cell_type": "code",
   "execution_count": null,
   "metadata": {},
   "outputs": [],
   "source": [
    "# index paths\n",
    "strategy_path = \"index/strategy\"\n",
    "gameinfo_path = \"index/game\"\n",
    "altogether_path = \"index/altogether\""
   ]
  },
  {
   "cell_type": "code",
   "execution_count": 30,
   "metadata": {},
   "outputs": [
    {
     "name": "stdout",
     "output_type": "stream",
     "text": [
      "What is the best type of upgrade for Nagakiba to cause the most damage?\n"
     ]
    }
   ],
   "source": [
    "# read prompt from csv\n",
    "import pandas as pd\n",
    "df = pd.read_csv(\"prompt.csv\")\n",
    "# get first row\n",
    "prompt = df.iloc[0, 0]\n",
    "print(prompt)\n"
   ]
  },
  {
   "cell_type": "code",
   "execution_count": 31,
   "metadata": {},
   "outputs": [
    {
     "ename": "FileNotFoundError",
     "evalue": "[Errno 2] No such file or directory: 'c:/Users/admin/Desktop/1786/EldenBossBuster/../index/strategy/docstore.json'",
     "output_type": "error",
     "traceback": [
      "\u001b[1;31m---------------------------------------------------------------------------\u001b[0m",
      "\u001b[1;31mFileNotFoundError\u001b[0m                         Traceback (most recent call last)",
      "Cell \u001b[1;32mIn[31], line 1\u001b[0m\n\u001b[1;32m----> 1\u001b[0m strategy_agent \u001b[38;5;241m=\u001b[39m \u001b[43mRAG_agent\u001b[49m\u001b[43m(\u001b[49m\u001b[43mstrategy_path\u001b[49m\u001b[43m)\u001b[49m\n\u001b[0;32m      2\u001b[0m gameinfo_agent \u001b[38;5;241m=\u001b[39m RAG_agent(gameinfo_path)\n",
      "Cell \u001b[1;32mIn[23], line 3\u001b[0m, in \u001b[0;36mRAG_agent.__init__\u001b[1;34m(self, index_path)\u001b[0m\n\u001b[0;32m      2\u001b[0m \u001b[38;5;28;01mdef\u001b[39;00m \u001b[38;5;21m__init__\u001b[39m(\u001b[38;5;28mself\u001b[39m, index_path):\n\u001b[1;32m----> 3\u001b[0m     storage_context \u001b[38;5;241m=\u001b[39m \u001b[43mStorageContext\u001b[49m\u001b[38;5;241;43m.\u001b[39;49m\u001b[43mfrom_defaults\u001b[49m\u001b[43m(\u001b[49m\u001b[43mpersist_dir\u001b[49m\u001b[38;5;241;43m=\u001b[39;49m\u001b[43mindex_path\u001b[49m\u001b[43m)\u001b[49m\n\u001b[0;32m      4\u001b[0m     index \u001b[38;5;241m=\u001b[39m load_index_from_storage(storage_context)\n\u001b[0;32m      5\u001b[0m     llm \u001b[38;5;241m=\u001b[39m OpenAI(\n\u001b[0;32m      6\u001b[0m         model\u001b[38;5;241m=\u001b[39m\u001b[38;5;124m\"\u001b[39m\u001b[38;5;124mgpt-4o\u001b[39m\u001b[38;5;124m\"\u001b[39m,\n\u001b[0;32m      7\u001b[0m         temperature\u001b[38;5;241m=\u001b[39m\u001b[38;5;241m0.7\u001b[39m,\n\u001b[1;32m   (...)\u001b[0m\n\u001b[0;32m     10\u001b[0m         num_outputs\u001b[38;5;241m=\u001b[39m\u001b[38;5;241m1000\u001b[39m,\n\u001b[0;32m     11\u001b[0m     )\n",
      "File \u001b[1;32mc:\\Users\\admin\\miniconda3\\envs\\elden\\Lib\\site-packages\\llama_index\\core\\storage\\storage_context.py:111\u001b[0m, in \u001b[0;36mStorageContext.from_defaults\u001b[1;34m(cls, docstore, index_store, vector_store, image_store, vector_stores, graph_store, property_graph_store, persist_dir, fs)\u001b[0m\n\u001b[0;32m    109\u001b[0m         vector_stores[IMAGE_VECTOR_STORE_NAMESPACE] \u001b[38;5;241m=\u001b[39m image_store\n\u001b[0;32m    110\u001b[0m \u001b[38;5;28;01melse\u001b[39;00m:\n\u001b[1;32m--> 111\u001b[0m     docstore \u001b[38;5;241m=\u001b[39m docstore \u001b[38;5;129;01mor\u001b[39;00m \u001b[43mSimpleDocumentStore\u001b[49m\u001b[38;5;241;43m.\u001b[39;49m\u001b[43mfrom_persist_dir\u001b[49m\u001b[43m(\u001b[49m\n\u001b[0;32m    112\u001b[0m \u001b[43m        \u001b[49m\u001b[43mpersist_dir\u001b[49m\u001b[43m,\u001b[49m\u001b[43m \u001b[49m\u001b[43mfs\u001b[49m\u001b[38;5;241;43m=\u001b[39;49m\u001b[43mfs\u001b[49m\n\u001b[0;32m    113\u001b[0m \u001b[43m    \u001b[49m\u001b[43m)\u001b[49m\n\u001b[0;32m    114\u001b[0m     index_store \u001b[38;5;241m=\u001b[39m index_store \u001b[38;5;129;01mor\u001b[39;00m SimpleIndexStore\u001b[38;5;241m.\u001b[39mfrom_persist_dir(\n\u001b[0;32m    115\u001b[0m         persist_dir, fs\u001b[38;5;241m=\u001b[39mfs\n\u001b[0;32m    116\u001b[0m     )\n\u001b[0;32m    117\u001b[0m     graph_store \u001b[38;5;241m=\u001b[39m graph_store \u001b[38;5;129;01mor\u001b[39;00m SimpleGraphStore\u001b[38;5;241m.\u001b[39mfrom_persist_dir(\n\u001b[0;32m    118\u001b[0m         persist_dir, fs\u001b[38;5;241m=\u001b[39mfs\n\u001b[0;32m    119\u001b[0m     )\n",
      "File \u001b[1;32mc:\\Users\\admin\\miniconda3\\envs\\elden\\Lib\\site-packages\\llama_index\\core\\storage\\docstore\\simple_docstore.py:57\u001b[0m, in \u001b[0;36mSimpleDocumentStore.from_persist_dir\u001b[1;34m(cls, persist_dir, namespace, fs)\u001b[0m\n\u001b[0;32m     55\u001b[0m \u001b[38;5;28;01melse\u001b[39;00m:\n\u001b[0;32m     56\u001b[0m     persist_path \u001b[38;5;241m=\u001b[39m os\u001b[38;5;241m.\u001b[39mpath\u001b[38;5;241m.\u001b[39mjoin(persist_dir, DEFAULT_PERSIST_FNAME)\n\u001b[1;32m---> 57\u001b[0m \u001b[38;5;28;01mreturn\u001b[39;00m \u001b[38;5;28;43mcls\u001b[39;49m\u001b[38;5;241;43m.\u001b[39;49m\u001b[43mfrom_persist_path\u001b[49m\u001b[43m(\u001b[49m\u001b[43mpersist_path\u001b[49m\u001b[43m,\u001b[49m\u001b[43m \u001b[49m\u001b[43mnamespace\u001b[49m\u001b[38;5;241;43m=\u001b[39;49m\u001b[43mnamespace\u001b[49m\u001b[43m,\u001b[49m\u001b[43m \u001b[49m\u001b[43mfs\u001b[49m\u001b[38;5;241;43m=\u001b[39;49m\u001b[43mfs\u001b[49m\u001b[43m)\u001b[49m\n",
      "File \u001b[1;32mc:\\Users\\admin\\miniconda3\\envs\\elden\\Lib\\site-packages\\llama_index\\core\\storage\\docstore\\simple_docstore.py:74\u001b[0m, in \u001b[0;36mSimpleDocumentStore.from_persist_path\u001b[1;34m(cls, persist_path, namespace, fs)\u001b[0m\n\u001b[0;32m     59\u001b[0m \u001b[38;5;129m@classmethod\u001b[39m\n\u001b[0;32m     60\u001b[0m \u001b[38;5;28;01mdef\u001b[39;00m \u001b[38;5;21mfrom_persist_path\u001b[39m(\n\u001b[0;32m     61\u001b[0m     \u001b[38;5;28mcls\u001b[39m,\n\u001b[1;32m   (...)\u001b[0m\n\u001b[0;32m     64\u001b[0m     fs: Optional[fsspec\u001b[38;5;241m.\u001b[39mAbstractFileSystem] \u001b[38;5;241m=\u001b[39m \u001b[38;5;28;01mNone\u001b[39;00m,\n\u001b[0;32m     65\u001b[0m ) \u001b[38;5;241m-\u001b[39m\u001b[38;5;241m>\u001b[39m \u001b[38;5;124m\"\u001b[39m\u001b[38;5;124mSimpleDocumentStore\u001b[39m\u001b[38;5;124m\"\u001b[39m:\n\u001b[0;32m     66\u001b[0m \u001b[38;5;250m    \u001b[39m\u001b[38;5;124;03m\"\"\"Create a SimpleDocumentStore from a persist path.\u001b[39;00m\n\u001b[0;32m     67\u001b[0m \n\u001b[0;32m     68\u001b[0m \u001b[38;5;124;03m    Args:\u001b[39;00m\n\u001b[1;32m   (...)\u001b[0m\n\u001b[0;32m     72\u001b[0m \n\u001b[0;32m     73\u001b[0m \u001b[38;5;124;03m    \"\"\"\u001b[39;00m\n\u001b[1;32m---> 74\u001b[0m     simple_kvstore \u001b[38;5;241m=\u001b[39m \u001b[43mSimpleKVStore\u001b[49m\u001b[38;5;241;43m.\u001b[39;49m\u001b[43mfrom_persist_path\u001b[49m\u001b[43m(\u001b[49m\u001b[43mpersist_path\u001b[49m\u001b[43m,\u001b[49m\u001b[43m \u001b[49m\u001b[43mfs\u001b[49m\u001b[38;5;241;43m=\u001b[39;49m\u001b[43mfs\u001b[49m\u001b[43m)\u001b[49m\n\u001b[0;32m     75\u001b[0m     \u001b[38;5;28;01mreturn\u001b[39;00m \u001b[38;5;28mcls\u001b[39m(simple_kvstore, namespace)\n",
      "File \u001b[1;32mc:\\Users\\admin\\miniconda3\\envs\\elden\\Lib\\site-packages\\llama_index\\core\\storage\\kvstore\\simple_kvstore.py:97\u001b[0m, in \u001b[0;36mSimpleKVStore.from_persist_path\u001b[1;34m(cls, persist_path, fs)\u001b[0m\n\u001b[0;32m     95\u001b[0m fs \u001b[38;5;241m=\u001b[39m fs \u001b[38;5;129;01mor\u001b[39;00m fsspec\u001b[38;5;241m.\u001b[39mfilesystem(\u001b[38;5;124m\"\u001b[39m\u001b[38;5;124mfile\u001b[39m\u001b[38;5;124m\"\u001b[39m)\n\u001b[0;32m     96\u001b[0m logger\u001b[38;5;241m.\u001b[39mdebug(\u001b[38;5;124mf\u001b[39m\u001b[38;5;124m\"\u001b[39m\u001b[38;5;124mLoading \u001b[39m\u001b[38;5;132;01m{\u001b[39;00m\u001b[38;5;18m__name__\u001b[39m\u001b[38;5;132;01m}\u001b[39;00m\u001b[38;5;124m from \u001b[39m\u001b[38;5;132;01m{\u001b[39;00mpersist_path\u001b[38;5;132;01m}\u001b[39;00m\u001b[38;5;124m.\u001b[39m\u001b[38;5;124m\"\u001b[39m)\n\u001b[1;32m---> 97\u001b[0m \u001b[38;5;28;01mwith\u001b[39;00m \u001b[43mfs\u001b[49m\u001b[38;5;241;43m.\u001b[39;49m\u001b[43mopen\u001b[49m\u001b[43m(\u001b[49m\u001b[43mpersist_path\u001b[49m\u001b[43m,\u001b[49m\u001b[43m \u001b[49m\u001b[38;5;124;43m\"\u001b[39;49m\u001b[38;5;124;43mrb\u001b[39;49m\u001b[38;5;124;43m\"\u001b[39;49m\u001b[43m)\u001b[49m \u001b[38;5;28;01mas\u001b[39;00m f:\n\u001b[0;32m     98\u001b[0m     data \u001b[38;5;241m=\u001b[39m json\u001b[38;5;241m.\u001b[39mload(f)\n\u001b[0;32m     99\u001b[0m \u001b[38;5;28;01mreturn\u001b[39;00m \u001b[38;5;28mcls\u001b[39m(data)\n",
      "File \u001b[1;32mc:\\Users\\admin\\miniconda3\\envs\\elden\\Lib\\site-packages\\fsspec\\spec.py:1301\u001b[0m, in \u001b[0;36mAbstractFileSystem.open\u001b[1;34m(self, path, mode, block_size, cache_options, compression, **kwargs)\u001b[0m\n\u001b[0;32m   1299\u001b[0m \u001b[38;5;28;01melse\u001b[39;00m:\n\u001b[0;32m   1300\u001b[0m     ac \u001b[38;5;241m=\u001b[39m kwargs\u001b[38;5;241m.\u001b[39mpop(\u001b[38;5;124m\"\u001b[39m\u001b[38;5;124mautocommit\u001b[39m\u001b[38;5;124m\"\u001b[39m, \u001b[38;5;129;01mnot\u001b[39;00m \u001b[38;5;28mself\u001b[39m\u001b[38;5;241m.\u001b[39m_intrans)\n\u001b[1;32m-> 1301\u001b[0m     f \u001b[38;5;241m=\u001b[39m \u001b[38;5;28;43mself\u001b[39;49m\u001b[38;5;241;43m.\u001b[39;49m\u001b[43m_open\u001b[49m\u001b[43m(\u001b[49m\n\u001b[0;32m   1302\u001b[0m \u001b[43m        \u001b[49m\u001b[43mpath\u001b[49m\u001b[43m,\u001b[49m\n\u001b[0;32m   1303\u001b[0m \u001b[43m        \u001b[49m\u001b[43mmode\u001b[49m\u001b[38;5;241;43m=\u001b[39;49m\u001b[43mmode\u001b[49m\u001b[43m,\u001b[49m\n\u001b[0;32m   1304\u001b[0m \u001b[43m        \u001b[49m\u001b[43mblock_size\u001b[49m\u001b[38;5;241;43m=\u001b[39;49m\u001b[43mblock_size\u001b[49m\u001b[43m,\u001b[49m\n\u001b[0;32m   1305\u001b[0m \u001b[43m        \u001b[49m\u001b[43mautocommit\u001b[49m\u001b[38;5;241;43m=\u001b[39;49m\u001b[43mac\u001b[49m\u001b[43m,\u001b[49m\n\u001b[0;32m   1306\u001b[0m \u001b[43m        \u001b[49m\u001b[43mcache_options\u001b[49m\u001b[38;5;241;43m=\u001b[39;49m\u001b[43mcache_options\u001b[49m\u001b[43m,\u001b[49m\n\u001b[0;32m   1307\u001b[0m \u001b[43m        \u001b[49m\u001b[38;5;241;43m*\u001b[39;49m\u001b[38;5;241;43m*\u001b[39;49m\u001b[43mkwargs\u001b[49m\u001b[43m,\u001b[49m\n\u001b[0;32m   1308\u001b[0m \u001b[43m    \u001b[49m\u001b[43m)\u001b[49m\n\u001b[0;32m   1309\u001b[0m     \u001b[38;5;28;01mif\u001b[39;00m compression \u001b[38;5;129;01mis\u001b[39;00m \u001b[38;5;129;01mnot\u001b[39;00m \u001b[38;5;28;01mNone\u001b[39;00m:\n\u001b[0;32m   1310\u001b[0m         \u001b[38;5;28;01mfrom\u001b[39;00m \u001b[38;5;21;01mfsspec\u001b[39;00m\u001b[38;5;21;01m.\u001b[39;00m\u001b[38;5;21;01mcompression\u001b[39;00m \u001b[38;5;28;01mimport\u001b[39;00m compr\n",
      "File \u001b[1;32mc:\\Users\\admin\\miniconda3\\envs\\elden\\Lib\\site-packages\\fsspec\\implementations\\local.py:195\u001b[0m, in \u001b[0;36mLocalFileSystem._open\u001b[1;34m(self, path, mode, block_size, **kwargs)\u001b[0m\n\u001b[0;32m    193\u001b[0m \u001b[38;5;28;01mif\u001b[39;00m \u001b[38;5;28mself\u001b[39m\u001b[38;5;241m.\u001b[39mauto_mkdir \u001b[38;5;129;01mand\u001b[39;00m \u001b[38;5;124m\"\u001b[39m\u001b[38;5;124mw\u001b[39m\u001b[38;5;124m\"\u001b[39m \u001b[38;5;129;01min\u001b[39;00m mode:\n\u001b[0;32m    194\u001b[0m     \u001b[38;5;28mself\u001b[39m\u001b[38;5;241m.\u001b[39mmakedirs(\u001b[38;5;28mself\u001b[39m\u001b[38;5;241m.\u001b[39m_parent(path), exist_ok\u001b[38;5;241m=\u001b[39m\u001b[38;5;28;01mTrue\u001b[39;00m)\n\u001b[1;32m--> 195\u001b[0m \u001b[38;5;28;01mreturn\u001b[39;00m \u001b[43mLocalFileOpener\u001b[49m\u001b[43m(\u001b[49m\u001b[43mpath\u001b[49m\u001b[43m,\u001b[49m\u001b[43m \u001b[49m\u001b[43mmode\u001b[49m\u001b[43m,\u001b[49m\u001b[43m \u001b[49m\u001b[43mfs\u001b[49m\u001b[38;5;241;43m=\u001b[39;49m\u001b[38;5;28;43mself\u001b[39;49m\u001b[43m,\u001b[49m\u001b[43m \u001b[49m\u001b[38;5;241;43m*\u001b[39;49m\u001b[38;5;241;43m*\u001b[39;49m\u001b[43mkwargs\u001b[49m\u001b[43m)\u001b[49m\n",
      "File \u001b[1;32mc:\\Users\\admin\\miniconda3\\envs\\elden\\Lib\\site-packages\\fsspec\\implementations\\local.py:359\u001b[0m, in \u001b[0;36mLocalFileOpener.__init__\u001b[1;34m(self, path, mode, autocommit, fs, compression, **kwargs)\u001b[0m\n\u001b[0;32m    357\u001b[0m \u001b[38;5;28mself\u001b[39m\u001b[38;5;241m.\u001b[39mcompression \u001b[38;5;241m=\u001b[39m get_compression(path, compression)\n\u001b[0;32m    358\u001b[0m \u001b[38;5;28mself\u001b[39m\u001b[38;5;241m.\u001b[39mblocksize \u001b[38;5;241m=\u001b[39m io\u001b[38;5;241m.\u001b[39mDEFAULT_BUFFER_SIZE\n\u001b[1;32m--> 359\u001b[0m \u001b[38;5;28;43mself\u001b[39;49m\u001b[38;5;241;43m.\u001b[39;49m\u001b[43m_open\u001b[49m\u001b[43m(\u001b[49m\u001b[43m)\u001b[49m\n",
      "File \u001b[1;32mc:\\Users\\admin\\miniconda3\\envs\\elden\\Lib\\site-packages\\fsspec\\implementations\\local.py:364\u001b[0m, in \u001b[0;36mLocalFileOpener._open\u001b[1;34m(self)\u001b[0m\n\u001b[0;32m    362\u001b[0m \u001b[38;5;28;01mif\u001b[39;00m \u001b[38;5;28mself\u001b[39m\u001b[38;5;241m.\u001b[39mf \u001b[38;5;129;01mis\u001b[39;00m \u001b[38;5;28;01mNone\u001b[39;00m \u001b[38;5;129;01mor\u001b[39;00m \u001b[38;5;28mself\u001b[39m\u001b[38;5;241m.\u001b[39mf\u001b[38;5;241m.\u001b[39mclosed:\n\u001b[0;32m    363\u001b[0m     \u001b[38;5;28;01mif\u001b[39;00m \u001b[38;5;28mself\u001b[39m\u001b[38;5;241m.\u001b[39mautocommit \u001b[38;5;129;01mor\u001b[39;00m \u001b[38;5;124m\"\u001b[39m\u001b[38;5;124mw\u001b[39m\u001b[38;5;124m\"\u001b[39m \u001b[38;5;129;01mnot\u001b[39;00m \u001b[38;5;129;01min\u001b[39;00m \u001b[38;5;28mself\u001b[39m\u001b[38;5;241m.\u001b[39mmode:\n\u001b[1;32m--> 364\u001b[0m         \u001b[38;5;28mself\u001b[39m\u001b[38;5;241m.\u001b[39mf \u001b[38;5;241m=\u001b[39m \u001b[38;5;28;43mopen\u001b[39;49m\u001b[43m(\u001b[49m\u001b[38;5;28;43mself\u001b[39;49m\u001b[38;5;241;43m.\u001b[39;49m\u001b[43mpath\u001b[49m\u001b[43m,\u001b[49m\u001b[43m \u001b[49m\u001b[43mmode\u001b[49m\u001b[38;5;241;43m=\u001b[39;49m\u001b[38;5;28;43mself\u001b[39;49m\u001b[38;5;241;43m.\u001b[39;49m\u001b[43mmode\u001b[49m\u001b[43m)\u001b[49m\n\u001b[0;32m    365\u001b[0m         \u001b[38;5;28;01mif\u001b[39;00m \u001b[38;5;28mself\u001b[39m\u001b[38;5;241m.\u001b[39mcompression:\n\u001b[0;32m    366\u001b[0m             compress \u001b[38;5;241m=\u001b[39m compr[\u001b[38;5;28mself\u001b[39m\u001b[38;5;241m.\u001b[39mcompression]\n",
      "\u001b[1;31mFileNotFoundError\u001b[0m: [Errno 2] No such file or directory: 'c:/Users/admin/Desktop/1786/EldenBossBuster/../index/strategy/docstore.json'"
     ]
    }
   ],
   "source": [
    "strategy_agent = RAG_agent(strategy_path)\n",
    "gameinfo_agent = RAG_agent(gameinfo_path)"
   ]
  },
  {
   "cell_type": "code",
   "execution_count": null,
   "metadata": {},
   "outputs": [],
   "source": [
    "\n",
    "system = EldenGuideSystem(strategy_agent, gameinfo_agent)\n",
    "response = system.run(prompt)\n",
    "print(response)"
   ]
  }
 ],
 "metadata": {
  "kernelspec": {
   "display_name": "elden",
   "language": "python",
   "name": "python3"
  },
  "language_info": {
   "codemirror_mode": {
    "name": "ipython",
    "version": 3
   },
   "file_extension": ".py",
   "mimetype": "text/x-python",
   "name": "python",
   "nbconvert_exporter": "python",
   "pygments_lexer": "ipython3",
   "version": "3.12.7"
  }
 },
 "nbformat": 4,
 "nbformat_minor": 2
}
