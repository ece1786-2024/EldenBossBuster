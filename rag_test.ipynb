{
 "cells": [
  {
   "cell_type": "code",
   "execution_count": 9,
   "metadata": {},
   "outputs": [],
   "source": [
    "from system import Query_agent, STRATEGY_QUERY_DESCRIPTION, GAMEINFO_QUERY_DESCRIPTION\n",
    "\n",
    "strategy_query_agent = Query_agent(STRATEGY_QUERY_DESCRIPTION)\n",
    "gameinfo_query_agent = Query_agent(GAMEINFO_QUERY_DESCRIPTION)"
   ]
  },
  {
   "cell_type": "code",
   "execution_count": 11,
   "metadata": {},
   "outputs": [
    {
     "name": "stdout",
     "output_type": "stream",
     "text": [
      "[['Recommended Unsheathe build equipment for defeating Margit in Elden Ring']\n",
      " ['Optimal upgrade path for maximizing damage output with Nagakiba in Elden Ring.']\n",
      " ['Best katana for defeating dragons in Elden Ring']\n",
      " ['Nagakiba Unsheathe build strategy for agile bosses in Elden Ring']\n",
      " ['Black Knife effectiveness against Maliketh with unique skill usage strategies']\n",
      " ['Parrying Crucible Knight strategies and optimal shield or weapon setup.']\n",
      " ['Effective strategies and weapon or spell recommendations for defeating Malenia, Blade of Miquella in Elden Ring.']\n",
      " ['Optimize Wave of Gold for mob clearing in Elden Ring.']\n",
      " ['Fastest strategy to defeat General Radahn in Elden Ring']\n",
      " ['\"Best samurai equipment and strategy for defeating Morgott in Elden Ring\"']]\n"
     ]
    }
   ],
   "source": [
    "import os\n",
    "if not os.path.exists(\"rag_test/strategyRAG_testset.csv\") or not os.path.exists(\"rag_test/gameinfoRAG_testset.csv\"):\n",
    "    import pandas as pd\n",
    "    prompt = pd.read_csv(\"prompt.csv\", header=None).values\n",
    "\n",
    "    strat_queries = []\n",
    "    gameinfo_queries = []\n",
    "\n",
    "    for row in prompt:\n",
    "        strat_queries.append(strategy_query_agent.create_query(row[0]))\n",
    "        gameinfo_queries.append(gameinfo_query_agent.create_query(row[0]))\n",
    "\n",
    "    # save to csv\n",
    "    pd.DataFrame(strat_queries).to_csv(\"rag_test/strategyRAG_testset.csv\", index=False, header=False)\n",
    "    pd.DataFrame(gameinfo_queries).to_csv(\"rag_test/gameinfoRAG_testset.csv\", index=False, header=False)\n",
    "else:\n",
    "    strat_queries = pd.read_csv(\"rag_test/strategyRAG_testset.csv\", header=None).values\n",
    "    gameinfo_queries = pd.read_csv(\"rag_test/gameinfoRAG_testset.csv\", header=None).values\n",
    "    print(strat_queries)"
   ]
  },
  {
   "cell_type": "code",
   "execution_count": null,
   "metadata": {},
   "outputs": [],
   "source": [
    "from system import RAG_agent\n",
    "\n",
    "strategy_path = \"index/strategy\"\n",
    "gameinfo_path = \"index/game\"\n",
    "strategy_agent = RAG_agent(strategy_path)\n",
    "gameinfo_agent = RAG_agent(gameinfo_path)\n"
   ]
  },
  {
   "cell_type": "code",
   "execution_count": null,
   "metadata": {},
   "outputs": [],
   "source": [
    "strategy_response = strategy_agent.query(strategy_query)\n",
    "gameinfo_response = gameinfo_agent.query(gameinfo_query)\n"
   ]
  }
 ],
 "metadata": {
  "kernelspec": {
   "display_name": "elden",
   "language": "python",
   "name": "python3"
  },
  "language_info": {
   "codemirror_mode": {
    "name": "ipython",
    "version": 3
   },
   "file_extension": ".py",
   "mimetype": "text/x-python",
   "name": "python",
   "nbconvert_exporter": "python",
   "pygments_lexer": "ipython3",
   "version": "3.12.7"
  }
 },
 "nbformat": 4,
 "nbformat_minor": 2
}
