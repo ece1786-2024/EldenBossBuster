{
 "cells": [
  {
   "cell_type": "code",
   "execution_count": 17,
   "metadata": {},
   "outputs": [],
   "source": [
    "from system import Query_agent, STRATEGY_QUERY_DESCRIPTION, GAMEINFO_QUERY_DESCRIPTION\n"
   ]
  },
  {
   "cell_type": "code",
   "execution_count": 18,
   "metadata": {},
   "outputs": [],
   "source": [
    "# get agent descriptions\n",
    "def load_prompt(filename):\n",
    "    with open(f'agent_descriptions/{filename}.txt', 'r') as file:\n",
    "        return file.read().strip()\n",
    "\n",
    "STRATEGY_QUERY_DESCRIPTION = load_prompt('strategy_agent')\n",
    "GAMEINFO_QUERY_DESCRIPTION = load_prompt('gameinfo_agent')"
   ]
  },
  {
   "cell_type": "code",
   "execution_count": 19,
   "metadata": {},
   "outputs": [],
   "source": [
    "import pandas as pd\n",
    "prompt = pd.read_csv(\"prompt.csv\", header=None).values\n",
    "\n",
    "strat_queries = []\n",
    "gameinfo_queries = []\n",
    "\n",
    "for row in prompt:\n",
    "    strategy_query_agent = Query_agent(STRATEGY_QUERY_DESCRIPTION, [{\"role\": \"user\", \"content\": row[0]}])\n",
    "    gameinfo_query_agent = Query_agent(GAMEINFO_QUERY_DESCRIPTION, [{\"role\": \"user\", \"content\": row[0]}])\n",
    "    strat_queries.append(strategy_query_agent.create_query())\n",
    "    gameinfo_queries.append(gameinfo_query_agent.create_query())\n",
    "\n",
    "# save to csv\n",
    "pd.DataFrame(strat_queries).to_csv(\"rag_test/strategyRAG_testset.csv\", index=False, header=False)\n",
    "pd.DataFrame(gameinfo_queries).to_csv(\"rag_test/gameinfoRAG_testset.csv\", index=False, header=False)"
   ]
  },
  {
   "cell_type": "code",
   "execution_count": 20,
   "metadata": {},
   "outputs": [
    {
     "name": "stdout",
     "output_type": "stream",
     "text": [
      "[['\"Optimal Unsheathe build and gear for defeating Margit in Elden Ring\"']\n",
      " ['Nagakiba best upgrade path for maximum damage output in Elden Ring']\n",
      " ['\"Best katana for defeating dragons in Elden Ring with recommended build and strategies from top YouTubers\"']\n",
      " ['\"Nagakiba Unsheathe skill strategy Elden Ring agile bosses maximum damage tips\"']\n",
      " ['Black Knife strategy against Maliketh Elden Ring']\n",
      " ['Consistent parry techniques and optimal shield/weapon setups against Crucible Knight in Elden Ring']\n",
      " ['\"Effective strategies for defeating Malenia in Elden Ring, including recommended weapons and spells\"']\n",
      " ['Optimize Wave of Gold build for mob clearing Elden Ring']\n",
      " ['\"fastest way to defeat General Radahn Elden Ring quick strategy 2023\"']\n",
      " ['\"Best samurai build and equipment for defeating Morgott in Elden Ring\"']]\n"
     ]
    }
   ],
   "source": [
    "\n",
    "strat_queries = pd.read_csv(\"rag_test/strategyRAG_testset.csv\", header=None).values\n",
    "gameinfo_queries = pd.read_csv(\"rag_test/gameinfoRAG_testset.csv\", header=None).values\n",
    "print(strat_queries)"
   ]
  },
  {
   "cell_type": "code",
   "execution_count": 21,
   "metadata": {},
   "outputs": [
    {
     "name": "stdout",
     "output_type": "stream",
     "text": [
      "[['Weapon: Uchigatana, Attribute: Location']\n",
      " ['weapon upgrade Nagakiba damage type']\n",
      " ['katana for defeating dragons']\n",
      " ['Nagakiba, Unsheathe, damage, requirements, attributes']\n",
      " ['weapon Black Knife unique skill']\n",
      " ['shield: {name, weight, requirements, parry_frames, location}']\n",
      " ['Weapon: Rivers of Blood, Attributes: Requirements, Damage Type, Location']\n",
      " ['skill: Wave of Gold attributes: effect, requirements, strategy']\n",
      " ['General Radahn攻略']\n",
      " ['weapon, katana, Morgott, Elden Ring, location, damage type, skills']]\n"
     ]
    }
   ],
   "source": [
    "print(gameinfo_queries)"
   ]
  }
 ],
 "metadata": {
  "kernelspec": {
   "display_name": "elden",
   "language": "python",
   "name": "python3"
  },
  "language_info": {
   "codemirror_mode": {
    "name": "ipython",
    "version": 3
   },
   "file_extension": ".py",
   "mimetype": "text/x-python",
   "name": "python",
   "nbconvert_exporter": "python",
   "pygments_lexer": "ipython3",
   "version": "3.12.7"
  }
 },
 "nbformat": 4,
 "nbformat_minor": 2
}
