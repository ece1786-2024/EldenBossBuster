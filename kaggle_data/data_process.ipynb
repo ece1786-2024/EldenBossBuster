{
 "cells": [
  {
   "cell_type": "code",
   "execution_count": 48,
   "metadata": {},
   "outputs": [],
   "source": [
    "import pandas as pd"
   ]
  },
  {
   "cell_type": "code",
   "execution_count": 49,
   "metadata": {},
   "outputs": [],
   "source": [
    "weapons_data = pd.read_csv('weapons.csv')"
   ]
  },
  {
   "cell_type": "code",
   "execution_count": 55,
   "metadata": {},
   "outputs": [],
   "source": [
    "def table_to_text(df, id_col, drop_cols):\n",
    "    df = df.drop(columns=drop_cols)\n",
    "    df_melted = df.melt(id_vars=id_col)\n",
    "    assert len(df_melted) == len(df) * (len(df.columns) - 1)\n",
    "    df_melted['value'] = df_melted['value'].astype(str)\n",
    "    text_df = pd.DataFrame(columns=['text'])\n",
    "    text_df['text'] = 'The ' + df_melted['variable'] + ' of ' + df_melted['name'] + ' is ' + df_melted['value']\n",
    "    return text_df\n"
   ]
  },
  {
   "cell_type": "code",
   "execution_count": 56,
   "metadata": {},
   "outputs": [],
   "source": [
    "# weapons.csv\n",
    "weapons_txt = table_to_text(weapons_data, 'name', ['id', 'weapon_id', 'image'])\n",
    "weapons_txt.to_csv('weapon_txt.csv', index=False)\n"
   ]
  },
  {
   "cell_type": "code",
   "execution_count": 52,
   "metadata": {},
   "outputs": [
    {
     "name": "stdout",
     "output_type": "stream",
     "text": [
      "                                            text\n",
      "0            The weight of Dueling Shield is 9.0\n",
      "1  The weight of Carian Thrusting Shield is 10.5\n",
      "2              The weight of Dryleaf Arts is 1.0\n",
      "3           The weight of Dane's Footwork is 1.0\n",
      "4        The weight of Smithscript Dagger is 1.5\n"
     ]
    }
   ],
   "source": [
    "print(weapons_txt.head())"
   ]
  }
 ],
 "metadata": {
  "kernelspec": {
   "display_name": "elden",
   "language": "python",
   "name": "python3"
  },
  "language_info": {
   "codemirror_mode": {
    "name": "ipython",
    "version": 3
   },
   "file_extension": ".py",
   "mimetype": "text/x-python",
   "name": "python",
   "nbconvert_exporter": "python",
   "pygments_lexer": "ipython3",
   "version": "3.12.7"
  }
 },
 "nbformat": 4,
 "nbformat_minor": 2
}
