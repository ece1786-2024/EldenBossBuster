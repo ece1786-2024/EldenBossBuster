{
 "cells": [
  {
   "cell_type": "code",
   "execution_count": 89,
   "metadata": {},
   "outputs": [],
   "source": [
    "import pandas as pd\n",
    "import os"
   ]
  },
  {
   "cell_type": "code",
   "execution_count": 90,
   "metadata": {},
   "outputs": [],
   "source": [
    "weapons_data = pd.read_csv('eldenringScrap/weapons.csv')"
   ]
  },
  {
   "cell_type": "code",
   "execution_count": 91,
   "metadata": {},
   "outputs": [],
   "source": [
    "# def table_to_text(df, id_col, drop_cols):\n",
    "#     df = df.drop(columns=drop_cols)\n",
    "#     df_melted = df.melt(id_vars=id_col)\n",
    "#     assert len(df_melted) == len(df) * (len(df.columns) - 1)\n",
    "#     df_melted['value'] = df_melted['value'].astype(str)\n",
    "#     text_df = pd.DataFrame(columns=['text'])\n",
    "#     text_df['text'] = 'The ' + df_melted['variable'] + ' of ' + df_melted['name'] + ' is ' + df_melted['value']\n",
    "#     return text_df\n"
   ]
  },
  {
   "cell_type": "code",
   "execution_count": 92,
   "metadata": {},
   "outputs": [],
   "source": [
    "# weapons.csv\n",
    "# weapons_txt = table_to_text(weapons_data, 'name', ['id', 'weapon_id', 'image'])\n",
    "# weapons_txt.to_csv('weapon_txt.csv', index=False)\n"
   ]
  },
  {
   "cell_type": "code",
   "execution_count": 93,
   "metadata": {},
   "outputs": [],
   "source": [
    "# print(weapons_txt.head())"
   ]
  },
  {
   "cell_type": "code",
   "execution_count": 94,
   "metadata": {},
   "outputs": [],
   "source": [
    "def get_dfs(path: str):\n",
    "    dfs = []\n",
    "    fnames = []\n",
    "    for file in os.listdir(path):\n",
    "        if not file.endswith('.csv'):\n",
    "            continue\n",
    "        fnames.append(file)\n",
    "        df = pd.read_csv(f'{path}/{file}')\n",
    "        if 'image' in df.columns:\n",
    "            df = df.drop(columns=['image'])\n",
    "        if 'dlc' in df.columns:\n",
    "            df = df.drop(columns=['dlc'])\n",
    "        if 'id' in df.columns:\n",
    "            df = df.drop(columns=['id'])\n",
    "        if 'shield_id' in df.columns:\n",
    "            df = df.drop(columns=['shield_id'])\n",
    "        if 'weapon_id' in df.columns:\n",
    "            df = df.drop(columns=['weapon_id'])\n",
    "        if 'shield name' in df.columns:\n",
    "            df = df.rename(columns={'shield name': 'name'})\n",
    "        if 'weapon name' in df.columns:\n",
    "            df = df.rename(columns={'weapon name': 'name'})\n",
    "        if 'value' in df.columns:\n",
    "            # print(file), only talismans.csv and remembrances.csv have 'value'\n",
    "            df = df.rename(columns={'value': 'sell_value'})\n",
    "        dfs.append(df)\n",
    "    return dfs, fnames\n"
   ]
  },
  {
   "cell_type": "code",
   "execution_count": 95,
   "metadata": {},
   "outputs": [],
   "source": [
    "list1, fnames1 = get_dfs('eldenringScrap')\n",
    "list2, fnames2 = get_dfs('eldenringScrap/items')\n",
    "all_dfs = list1 + list2\n",
    "all_fnames = fnames1 + fnames2"
   ]
  },
  {
   "cell_type": "code",
   "execution_count": 96,
   "metadata": {},
   "outputs": [
    {
     "name": "stdout",
     "output_type": "stream",
     "text": [
      "3 8\n"
     ]
    }
   ],
   "source": [
    "# find shields_upgrades and weapons_upgrades\n",
    "shield = all_fnames.index('shields_upgrades.csv')\n",
    "weapon = all_fnames.index('weapons_upgrades.csv')\n",
    "print(shield, weapon)\n",
    "shield_df, weapon_df = all_dfs[shield], all_dfs[weapon]\n",
    "shield_df['name'] = shield_df['name'] + ' with upgrade ' + shield_df['upgrade']\n",
    "weapon_df['name'] = weapon_df['name'] + ' with upgrade ' + weapon_df['upgrade']\n",
    "shield_df = shield_df.drop(columns=['upgrade'])\n",
    "weapon_df = weapon_df.drop(columns=['upgrade'])\n",
    "all_dfs[shield], all_dfs[weapon] = shield_df, weapon_df"
   ]
  },
  {
   "cell_type": "code",
   "execution_count": 97,
   "metadata": {},
   "outputs": [
    {
     "name": "stdout",
     "output_type": "stream",
     "text": [
      "npcs.csv\n",
      "Index(['name', 'location', 'role', 'voiced by', 'description'], dtype='object')\n",
      "\n",
      "spiritAshes.csv\n",
      "Index(['name', 'type', 'FP cost', 'HP cost', 'effect', 'description'], dtype='object')\n",
      "\n",
      "creatures.csv\n",
      "Index(['name', 'locations', 'drops', 'blockquote'], dtype='object')\n",
      "\n",
      "shields_upgrades.csv\n",
      "Index(['name', 'attack power', 'stat scaling', 'passive effects',\n",
      "       'damage reduction (%)'],\n",
      "      dtype='object')\n",
      "\n",
      "skills.csv\n",
      "Index(['name', 'type', 'equipament', 'charge', 'FP', 'effect', 'locations'], dtype='object')\n",
      "\n",
      "locations.csv\n",
      "Index(['name', 'region', 'items', 'npcs', 'creatures', 'bosses',\n",
      "       'description'],\n",
      "      dtype='object')\n",
      "\n",
      "shields.csv\n",
      "Index(['name', 'weight', 'description', 'requirements', 'damage type',\n",
      "       'category', 'passive effect', 'skill', 'FP cost'],\n",
      "      dtype='object')\n",
      "\n",
      "talismans.csv\n",
      "Index(['name', 'effect', 'weight', 'sell_value', 'description'], dtype='object')\n",
      "\n",
      "weapons_upgrades.csv\n",
      "Index(['name', 'attack power', 'stat scaling', 'passive effects',\n",
      "       'damage reduction (%)'],\n",
      "      dtype='object')\n",
      "\n",
      "sorceries.csv\n",
      "Index(['name', 'description', 'effect', 'FP', 'slot', 'INT', 'FAI', 'ARC',\n",
      "       'stamina cost', 'bonus', 'location'],\n",
      "      dtype='object')\n",
      "\n",
      "incantations.csv\n",
      "Index(['name', 'description', 'effect', 'FP', 'slot', 'INT', 'FAI', 'ARC',\n",
      "       'stamina cost', 'bonus', 'group', 'location'],\n",
      "      dtype='object')\n",
      "\n",
      "bosses.csv\n",
      "Index(['name', 'HP', 'Locations & Drops', 'blockquote'], dtype='object')\n",
      "\n",
      "weapons.csv\n",
      "Index(['name', 'weight', 'description', 'requirements', 'damage type',\n",
      "       'category', 'passive effect', 'skill', 'FP cost'],\n",
      "      dtype='object')\n",
      "\n",
      "armors.csv\n",
      "Index(['name', 'description', 'type', 'damage negation', 'resistance',\n",
      "       'weight', 'special effect', 'how to acquire', 'in-game section'],\n",
      "      dtype='object')\n",
      "\n",
      "ashesOfWar.csv\n",
      "Index(['name', 'affinity', 'skill', 'description'], dtype='object')\n",
      "\n",
      "materials.csv\n",
      "Index(['name', 'effect', 'FP cost', 'description'], dtype='object')\n",
      "\n",
      "cookbooks.csv\n",
      "Index(['name', 'effect', 'required for', 'description'], dtype='object')\n",
      "\n",
      "keyItems.csv\n",
      "Index(['name', 'description', 'type', 'usage', 'location'], dtype='object')\n",
      "\n",
      "whetblades.csv\n",
      "Index(['name', 'description', 'usage', 'location'], dtype='object')\n",
      "\n",
      "crystalTears.csv\n",
      "Index(['name', 'effect', 'FP cost', 'description'], dtype='object')\n",
      "\n",
      "ammos.csv\n",
      "Index(['name', 'type', 'damage type', 'attack power', 'passive effect',\n",
      "       'description'],\n",
      "      dtype='object')\n",
      "\n",
      "upgradeMaterials.csv\n",
      "Index(['name', 'description', 'effect'], dtype='object')\n",
      "\n",
      "tools.csv\n",
      "Index(['name', 'description', 'type', 'usage', 'location'], dtype='object')\n",
      "\n",
      "consumables.csv\n",
      "Index(['name', 'effect', 'FP cost', 'description'], dtype='object')\n",
      "\n",
      "greatRunes.csv\n",
      "Index(['name', 'type', 'description', 'effect', 'boss', 'location',\n",
      "       'divine tower locations'],\n",
      "      dtype='object')\n",
      "\n",
      "remembrances.csv\n",
      "Index(['name', 'type', 'description', 'option 1', 'option 2', 'sell_value',\n",
      "       'boss'],\n",
      "      dtype='object')\n",
      "\n",
      "multi.csv\n",
      "Index(['name', 'type', 'effect', 'description'], dtype='object')\n",
      "\n",
      "bells.csv\n",
      "Index(['name', 'type', 'effect', 'description'], dtype='object')\n",
      "\n"
     ]
    }
   ],
   "source": [
    "for df, fname in zip(all_dfs, all_fnames):\n",
    "    print(fname)\n",
    "    print(df.columns)\n",
    "    print()"
   ]
  },
  {
   "cell_type": "code",
   "execution_count": 98,
   "metadata": {},
   "outputs": [],
   "source": [
    "def table_to_text(df):\n",
    "    df_melted = df.melt(id_vars='name', value_vars=df.columns[1:])\n",
    "    assert len(df_melted) == len(df) * (len(df.columns) - 1)\n",
    "    # drop nan in value\n",
    "    df_melted = df_melted.dropna(subset=['value'])\n",
    "    df_melted['value'] = df_melted['value'].astype(str)\n",
    "    text_df = pd.DataFrame(columns=['text'])\n",
    "    text_df['text'] = 'The ' + df_melted['variable'] + ' of ' + df_melted['name'] + ' is ' + df_melted['value']\n",
    "    return text_df\n"
   ]
  },
  {
   "cell_type": "code",
   "execution_count": 99,
   "metadata": {},
   "outputs": [],
   "source": [
    "# save in separate files\n",
    "# os.makedirs('text_data', exist_ok=True)\n",
    "# save_path = 'text_data'\n",
    "# for df, fname in zip(all_dfs, all_fnames):\n",
    "#     text_df = table_to_text(df)\n",
    "#     text_df.to_csv(f'{save_path}/{fname[:-4]}_txt.csv', index=False)\n"
   ]
  },
  {
   "cell_type": "code",
   "execution_count": 100,
   "metadata": {},
   "outputs": [],
   "source": [
    "df_all = pd.concat(all_dfs)\n",
    "text_df_all = table_to_text(df_all)\n",
    "text_df_all.to_csv(f'kaggle_data.txt', index=False, header=False)"
   ]
  },
  {
   "cell_type": "code",
   "execution_count": null,
   "metadata": {},
   "outputs": [],
   "source": []
  }
 ],
 "metadata": {
  "kernelspec": {
   "display_name": "elden",
   "language": "python",
   "name": "python3"
  },
  "language_info": {
   "codemirror_mode": {
    "name": "ipython",
    "version": 3
   },
   "file_extension": ".py",
   "mimetype": "text/x-python",
   "name": "python",
   "nbconvert_exporter": "python",
   "pygments_lexer": "ipython3",
   "version": "3.12.7"
  }
 },
 "nbformat": 4,
 "nbformat_minor": 2
}
