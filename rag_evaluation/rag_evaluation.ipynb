{
 "cells": [
  {
   "cell_type": "code",
   "execution_count": 5,
   "id": "86288fbf-867c-414e-9c7f-fba4ba2e873e",
   "metadata": {},
   "outputs": [],
   "source": [
    "from llama_index.core import StorageContext, load_index_from_storage\n",
    "from llama_index.llms.openai import OpenAI\n",
    "\n",
    "strategy_storage_context = StorageContext.from_defaults(persist_dir=\"index/strategy\")\n",
    "game_storage_context = StorageContext.from_defaults(persist_dir=\"index/game\")\n",
    "strategy_index = load_index_from_storage(strategy_storage_context)\n",
    "game_index = load_index_from_storage(game_storage_context)\n",
    "llm = OpenAI(\n",
    "    model=\"gpt-4o\",\n",
    "    temperature=0.7,\n",
    "    top_p=0.95,\n",
    "    frequency_penalty=0.2,\n",
    "    num_outputs=1000,\n",
    ")\n",
    "strategy_query_engine = strategy_index.as_query_engine(response_mode=\"refine\", similarity_top_k=5, verbose = True, llm = llm)\n",
    "game_query_engine = game_index.as_query_engine(response_mode=\"refine\", similarity_top_k=5, verbose = True, llm = llm)"
   ]
  },
  {
   "cell_type": "code",
   "execution_count": 9,
   "id": "70e3c481-ac75-40a3-afb1-3b67315f4a42",
   "metadata": {},
   "outputs": [
    {
     "data": {
      "text/plain": [
       "['Recommended full set of equipment for playing with Unsheathe to beat Margit',\n",
       " 'What is the best type of upgrade for Nagakiba to cause the most damage?',\n",
       " 'Recommend the best katana for defeating dragons in the game',\n",
       " 'How can I use the Nagakiba with the Unsheathe skill for maximum damage against agile bosses?',\n",
       " 'Is the Black Knife effective against Maliketh, and how should I use its unique skill to counter his attacks?',\n",
       " 'How can I consistently parry the Crucible Knight, and which shield or weapon setup is best for this?',\n",
       " 'What is the most effective way to beat Malenia, and which weapon or spells work best?',\n",
       " 'How can I optimize Wave of Gold for clearing mobs?']"
      ]
     },
     "execution_count": 9,
     "metadata": {},
     "output_type": "execute_result"
    }
   ],
   "source": [
    "with open('prompt.csv', 'r', encoding='utf-8') as file:\n",
    "    lines = file.readlines()\n",
    "questions = [line.strip() for line in lines if line.strip()]\n",
    "questions[:10]"
   ]
  },
  {
   "cell_type": "code",
   "execution_count": 10,
   "id": "599373a3-024f-4cfb-92c6-698f780af909",
   "metadata": {},
   "outputs": [
    {
     "name": "stderr",
     "output_type": "stream",
     "text": [
      "Updating app_name and app_version in apps table: 0it [00:00, ?it/s]\n",
      "Updating app_id in records table: 0it [00:00, ?it/s]\n",
      "Updating app_json in apps table: 0it [00:00, ?it/s]\n"
     ]
    }
   ],
   "source": [
    "from trulens_eval import Tru\n",
    "tru = Tru()\n",
    "tru.reset_database()"
   ]
  },
  {
   "cell_type": "code",
   "execution_count": 11,
   "id": "4e39d3de-0170-495a-867c-85fb75c9dcb1",
   "metadata": {
    "scrolled": true
   },
   "outputs": [
    {
     "name": "stdout",
     "output_type": "stream",
     "text": [
      "✅ In Groundedness, input source will be set to __record__.calls[-1].rets.source_nodes[:].node.text.collect() .\n",
      "✅ In Groundedness, input statement will be set to __record__.main_output or `Select.RecordOutput` .\n",
      "✅ In Answer Relevance, input prompt will be set to __record__.main_input or `Select.RecordInput` .\n",
      "✅ In Answer Relevance, input response will be set to __record__.main_output or `Select.RecordOutput` .\n",
      "✅ In Context Relevance, input question will be set to __record__.main_input or `Select.RecordInput` .\n",
      "✅ In Context Relevance, input context will be set to __record__.calls[-1].rets.source_nodes[:].node.text .\n"
     ]
    }
   ],
   "source": [
    "from utils import get_prebuilt_trulens_recorder\n",
    "\n",
    "strategy_tru_recorder = get_prebuilt_trulens_recorder(strategy_query_engine,\n",
    "                                             app_id=\"Strategy Query Engine\")"
   ]
  },
  {
   "cell_type": "code",
   "execution_count": 12,
   "id": "b2aae465-9ccf-4bf4-a65b-bd31eb6f984c",
   "metadata": {},
   "outputs": [
    {
     "name": "stderr",
     "output_type": "stream",
     "text": [
      "C:\\Users\\liuyq\\anaconda3\\envs\\ece1786_cuda\\lib\\site-packages\\numpy\\core\\fromnumeric.py:3504: RuntimeWarning: Mean of empty slice.\n",
      "  return _methods._mean(a, axis=axis, dtype=dtype,\n",
      "C:\\Users\\liuyq\\anaconda3\\envs\\ece1786_cuda\\lib\\site-packages\\numpy\\core\\_methods.py:129: RuntimeWarning: invalid value encountered in scalar divide\n",
      "  ret = ret.dtype.type(ret / rcount)\n"
     ]
    }
   ],
   "source": [
    "with strategy_tru_recorder as recording:\n",
    "    for question in questions:\n",
    "        response = strategy_query_engine.query(question)"
   ]
  },
  {
   "cell_type": "code",
   "execution_count": 13,
   "id": "a3f72fc9-be39-42e5-b37a-ca5414a3fd2a",
   "metadata": {},
   "outputs": [],
   "source": [
    "records, feedback = tru.get_records_and_feedback(app_ids=[])"
   ]
  },
  {
   "cell_type": "code",
   "execution_count": 14,
   "id": "bd6016b9-18b9-44cf-ab1d-fa16e9ca19f9",
   "metadata": {},
   "outputs": [
    {
     "name": "stdout",
     "output_type": "stream",
     "text": [
      "Starting dashboard ...\n"
     ]
    },
    {
     "name": "stderr",
     "output_type": "stream",
     "text": [
      "C:\\Users\\liuyq\\AppData\\Local\\Temp\\ipykernel_33136\\1552380249.py:1: DeprecationWarning: Method `run_dashboard` has been renamed or moved to `trulens.dashboard.run.run_dashboard`.\n",
      "\n",
      "  tru.run_dashboard()\n"
     ]
    },
    {
     "data": {
      "application/vnd.jupyter.widget-view+json": {
       "model_id": "bacda59acf714926800b11f78f8084c7",
       "version_major": 2,
       "version_minor": 0
      },
      "text/plain": [
       "Accordion(children=(VBox(children=(VBox(children=(Label(value='STDOUT'), Output())), VBox(children=(Label(valu…"
      ]
     },
     "metadata": {},
     "output_type": "display_data"
    },
    {
     "name": "stdout",
     "output_type": "stream",
     "text": [
      "Dashboard started at http://192.168.2.11:50101 .\n"
     ]
    },
    {
     "data": {
      "text/plain": [
       "<Popen: returncode: None args: ['streamlit', 'run', '--server.headless=True'...>"
      ]
     },
     "execution_count": 14,
     "metadata": {},
     "output_type": "execute_result"
    }
   ],
   "source": [
    "tru.run_dashboard()"
   ]
  },
  {
   "cell_type": "code",
   "execution_count": 15,
   "id": "a3ae02cf-4a84-4472-8f5f-72cf2741c4a7",
   "metadata": {},
   "outputs": [
    {
     "name": "stderr",
     "output_type": "stream",
     "text": [
      "Updating app_name and app_version in apps table: 0it [00:00, ?it/s]\n",
      "Updating app_id in records table: 0it [00:00, ?it/s]\n",
      "Updating app_json in apps table: 0it [00:00, ?it/s]\n"
     ]
    }
   ],
   "source": [
    "from trulens_eval import Tru\n",
    "tru = Tru()\n",
    "tru.reset_database()"
   ]
  },
  {
   "cell_type": "code",
   "execution_count": null,
   "id": "16573529-4d53-4541-883f-2317a2cd1e5b",
   "metadata": {},
   "outputs": [],
   "source": [
    "from utils import get_prebuilt_trulens_recorder\n",
    "\n",
    "game_tru_recorder = get_prebuilt_trulens_recorder(game_query_engine,\n",
    "                                             app_id=\"Game Query Engine\")"
   ]
  },
  {
   "cell_type": "code",
   "execution_count": null,
   "id": "fddbf815-974e-4ccc-af04-6355b3677b18",
   "metadata": {},
   "outputs": [],
   "source": [
    "with strategy_tru_recorder as recording:\n",
    "    for question in questions:\n",
    "        response = strategy_query_engine.query(question)"
   ]
  },
  {
   "cell_type": "code",
   "execution_count": null,
   "id": "fed30043-7a6c-43d6-8072-82aa7025059f",
   "metadata": {},
   "outputs": [],
   "source": [
    "records, feedback = tru.get_records_and_feedback(app_ids=[])"
   ]
  },
  {
   "cell_type": "code",
   "execution_count": null,
   "id": "f11d2582-4254-441a-bedc-97903b861ef5",
   "metadata": {},
   "outputs": [],
   "source": [
    "tru.run_dashboard()"
   ]
  }
 ],
 "metadata": {
  "kernelspec": {
   "display_name": "Python 3 (ipykernel)",
   "language": "python",
   "name": "python3"
  },
  "language_info": {
   "codemirror_mode": {
    "name": "ipython",
    "version": 3
   },
   "file_extension": ".py",
   "mimetype": "text/x-python",
   "name": "python",
   "nbconvert_exporter": "python",
   "pygments_lexer": "ipython3",
   "version": "3.10.14"
  }
 },
 "nbformat": 4,
 "nbformat_minor": 5
}
