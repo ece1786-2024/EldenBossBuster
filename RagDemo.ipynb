{
 "cells": [
  {
   "cell_type": "code",
   "execution_count": 1,
   "id": "4d3cb384",
   "metadata": {},
   "outputs": [
    {
     "data": {
      "text/plain": [
       "True"
      ]
     },
     "execution_count": 1,
     "metadata": {},
     "output_type": "execute_result"
    }
   ],
   "source": [
    "# importing os module for environment variables\n",
    "import os\n",
    "# importing necessary functions from dotenv library\n",
    "from dotenv import load_dotenv, dotenv_values \n",
    "# loading variables from .env file\n",
    "load_dotenv() "
   ]
  },
  {
   "cell_type": "code",
   "execution_count": 2,
   "id": "86288fbf-867c-414e-9c7f-fba4ba2e873e",
   "metadata": {},
   "outputs": [],
   "source": [
    "from llama_index.core import StorageContext, load_index_from_storage\n",
    "import openai\n",
    "\n",
    "openai.api_key = os.getenv(\"OPENAI_API_KEY\")\n"
   ]
  },
  {
   "cell_type": "code",
   "execution_count": 2,
   "id": "f866ad4b",
   "metadata": {},
   "outputs": [],
   "source": [
    "# rebuild storage context\n",
    "storage_context = StorageContext.from_defaults(persist_dir=\"C:/Users/johnl/OneDrive/Documents/GitHub/EldenBossBuster/index/data\") # location of those json files\n",
    "\n",
    "# load index\n",
    "index = load_index_from_storage(storage_context)"
   ]
  },
  {
   "cell_type": "code",
   "execution_count": null,
   "id": "c00ad30a-95e6-4380-921f-421793cdb488",
   "metadata": {},
   "outputs": [],
   "source": [
    "from llama_index.llms.openai import OpenAI\n",
    "\n",
    "llm = OpenAI(\n",
    "    model=\"gpt-4o\",\n",
    "    temperature=0.7,  # creativity\n",
    "    top_p=0.95,       # sampling diversity\n",
    "    frequency_penalty=0.2,  # reduce repetitive answers\n",
    "    num_outputs=1000, # tokens in the output\n",
    ")"
   ]
  },
  {
   "cell_type": "code",
   "execution_count": null,
   "id": "a7056824",
   "metadata": {},
   "outputs": [
    {
     "name": "stdout",
     "output_type": "stream",
     "text": [
      "Suggest an optimal equipment set for a player utilizing the Unsheathe skill to defeat Margit, the Fell Omen.\n"
     ]
    }
   ],
   "source": [
    "# agent to refine original prompt\n",
    "prompt_refine_agent = openai.OpenAI(api_key=openai.api_key)\n",
    "\n",
    "original_query= \"Recommended full set of equipment for playing with Unsheathe to beat Margit\"\n",
    "\n",
    "messages = [\n",
    "    {\"role\": \"system\",\n",
    "    \"content\": \"You are a prompt refining agent that helps to refine the prompt to another agent. \\\n",
    "        The job of the other agent is to recommend strategy based on player's status.\\\n",
    "        The game is Elden Ring. \\\n",
    "        Please use vocabularies from the Elden Ring to refine the prompt when suitable.\\\n",
    "        Given the below prompt, refine it so it is better to be feed into the recommendation agent that recommend a strategy.\"\n",
    "    },\n",
    "    {\n",
    "    \"role\": \"user\", \n",
    "    \"content\": f\"{original_query}\"\n",
    "    }\n",
    "]\n",
    "response = prompt_refine_agent.chat.completions.create(\n",
    "    model=\"gpt-4o\",\n",
    "    messages=messages,\n",
    "    max_tokens=1000,\n",
    "    n=1,\n",
    "    top_p=0.95,\n",
    "    frequency_penalty=0.2,\n",
    "    temperature=0.7\n",
    ")\n",
    "\n",
    "query_to_recommendation_agent = response.choices[0].message.content\n",
    "print(query_to_recommendation_agent)"
   ]
  },
  {
   "cell_type": "code",
   "execution_count": 20,
   "id": "b637e8ca-5e7c-4ece-b936-f2e87d2ff654",
   "metadata": {},
   "outputs": [],
   "source": [
    "query_enginge = index.as_query_engine(response_mode=\"refine\", similarity_top_k=5, verbose = True, llm = llm)"
   ]
  },
  {
   "cell_type": "code",
   "execution_count": 21,
   "id": "c2a19a23-7a6d-4665-ae7f-b433f9b96ecc",
   "metadata": {},
   "outputs": [],
   "source": [
    "response = query_enginge.query(f\"{query_to_recommendation_agent}\")"
   ]
  },
  {
   "cell_type": "code",
   "execution_count": 22,
   "id": "2a57588e-e926-4fd5-985d-c37085c516f8",
   "metadata": {},
   "outputs": [
    {
     "name": "stdout",
     "output_type": "stream",
     "text": [
      "To effectively defeat Margit using the Unsheathe skill, equip the Uchigatana, which pairs well with this combat style. Use the Keen Asymmeters +2 for optimal damage, and consider Margit's Shackle to temporarily immobilize him for free hits. Summon NPCs like Sorcerer Rogier or use Spirit Ashes such as Lone Wolf Ashes for distraction. Equip the Turtle Talisman to enhance stamina recovery, and ensure your armor provides decent physical damage negation, ideally around 100%, while maintaining agility for swift Unsheathe attacks. Prioritize high dexterity to maximize the damage output of the Uchigatana.\n"
     ]
    }
   ],
   "source": [
    "print(response)"
   ]
  }
 ],
 "metadata": {
  "kernelspec": {
   "display_name": "ece1786",
   "language": "python",
   "name": "python3"
  },
  "language_info": {
   "codemirror_mode": {
    "name": "ipython",
    "version": 3
   },
   "file_extension": ".py",
   "mimetype": "text/x-python",
   "name": "python",
   "nbconvert_exporter": "python",
   "pygments_lexer": "ipython3",
   "version": "3.10.15"
  }
 },
 "nbformat": 4,
 "nbformat_minor": 5
}
