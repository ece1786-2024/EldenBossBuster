{
 "cells": [
  {
   "cell_type": "code",
   "execution_count": 2,
   "id": "86288fbf-867c-414e-9c7f-fba4ba2e873e",
   "metadata": {},
   "outputs": [],
   "source": [
    "from llama_index.core import StorageContext, load_index_from_storage\n",
    "\n",
    "# rebuild storage context\n",
    "storage_context = StorageContext.from_defaults(persist_dir=\"index/data\") # location of those json files\n",
    "\n",
    "# load index\n",
    "index = load_index_from_storage(storage_context)"
   ]
  },
  {
   "cell_type": "code",
   "execution_count": 3,
   "id": "c00ad30a-95e6-4380-921f-421793cdb488",
   "metadata": {},
   "outputs": [],
   "source": [
    "from llama_index.llms.openai import OpenAI\n",
    "\n",
    "llm = OpenAI(\n",
    "    model=\"gpt-4o\",\n",
    "    temperature=0.7,  # creativity\n",
    "    top_p=0.95,       # sampling diversity\n",
    "    frequency_penalty=0.2,  # reduce repetitive answers\n",
    "    num_outputs=1000, # tokens in the output\n",
    ")"
   ]
  },
  {
   "cell_type": "code",
   "execution_count": 66,
   "id": "b637e8ca-5e7c-4ece-b936-f2e87d2ff654",
   "metadata": {},
   "outputs": [],
   "source": [
    "query_engine = index.as_query_engine(response_mode=\"refine\", similarity_top_k=7, verbose = True, llm = llm)"
   ]
  },
  {
   "cell_type": "code",
   "execution_count": 67,
   "id": "c2a19a23-7a6d-4665-ae7f-b433f9b96ecc",
   "metadata": {},
   "outputs": [],
   "source": [
    "response = query_engine.query(\"How can I optimize Wave of Gold for clearing mobs?\")"
   ]
  },
  {
   "cell_type": "code",
   "execution_count": 61,
   "id": "2a57588e-e926-4fd5-985d-c37085c516f8",
   "metadata": {
    "scrolled": true
   },
   "outputs": [
    {
     "name": "stdout",
     "output_type": "stream",
     "text": [
      "To optimize Wave of Gold for clearing mobs, focus on increasing dexterity and faith to maximize the damage of the attack. Utilize equipment and buffs that enhance stamina regeneration and faith scaling, allowing you to use Wave of Gold frequently and effectively against large groups of enemies.\n"
     ]
    }
   ],
   "source": [
    "print(response)"
   ]
  },
  {
   "cell_type": "code",
   "execution_count": 63,
   "id": "9924c074-7859-4f49-85b1-678049a178a8",
   "metadata": {},
   "outputs": [],
   "source": [
    "file_path = 'test_questions.txt'\n",
    "\n",
    "# Read questions from the file\n",
    "with open(file_path, 'r', encoding='utf-8') as file:\n",
    "    questions = [line.strip() for line in file if line.strip()]"
   ]
  },
  {
   "cell_type": "code",
   "execution_count": 64,
   "id": "c65b471e-63ea-49fb-9539-17064d86a2f7",
   "metadata": {},
   "outputs": [
    {
     "data": {
      "text/plain": [
       "['How can I use the Nagakiba with the Unsheathe skill for maximum damage against agile bosses?',\n",
       " 'Is the Black Knife effective against Maliketh, and how should I use its unique skill to counter his attacks?',\n",
       " 'How can I consistently parry the Crucible Knight, and which shield or weapon setup is best for this?',\n",
       " 'What is the most effective way to beat Malenia, and which weapon or spells work best?',\n",
       " 'How can I optimize Wave of Gold for clearing mobs?']"
      ]
     },
     "execution_count": 64,
     "metadata": {},
     "output_type": "execute_result"
    }
   ],
   "source": [
    "questions"
   ]
  },
  {
   "cell_type": "code",
   "execution_count": 69,
   "id": "599373a3-024f-4cfb-92c6-698f780af909",
   "metadata": {},
   "outputs": [
    {
     "name": "stderr",
     "output_type": "stream",
     "text": [
      "Updating app_name and app_version in apps table: 0it [00:00, ?it/s]\n",
      "Updating app_id in records table: 0it [00:00, ?it/s]\n",
      "Updating app_json in apps table: 0it [00:00, ?it/s]\n"
     ]
    }
   ],
   "source": [
    "from trulens_eval import Tru\n",
    "tru = Tru()\n",
    "\n",
    "tru.reset_database()"
   ]
  },
  {
   "cell_type": "code",
   "execution_count": 84,
   "id": "4e39d3de-0170-495a-867c-85fb75c9dcb1",
   "metadata": {
    "scrolled": true
   },
   "outputs": [
    {
     "name": "stdout",
     "output_type": "stream",
     "text": [
      "✅ In Answer Relevance, input prompt will be set to __record__.main_input or `Select.RecordInput` .\n",
      "✅ In Answer Relevance, input response will be set to __record__.main_output or `Select.RecordOutput` .\n",
      "✅ In Context Relevance, input prompt will be set to __record__.main_input or `Select.RecordInput` .\n",
      "✅ In Context Relevance, input response will be set to __record__.calls[-1].rets.source_nodes[:].node.text .\n",
      "✅ In Groundedness, input source will be set to __record__.calls[-1].rets.source_nodes[:].node.text .\n",
      "✅ In Groundedness, input statement will be set to __record__.main_output or `Select.RecordOutput` .\n"
     ]
    }
   ],
   "source": [
    "from utils import get_prebuilt_trulens_recorder\n",
    "\n",
    "tru_recorder = get_prebuilt_trulens_recorder(query_engine,\n",
    "                                             app_id=\"Direct Query Engine\")"
   ]
  },
  {
   "cell_type": "code",
   "execution_count": 86,
   "id": "b2aae465-9ccf-4bf4-a65b-bd31eb6f984c",
   "metadata": {},
   "outputs": [
    {
     "name": "stderr",
     "output_type": "stream",
     "text": [
      "C:\\Users\\liuyq\\anaconda3\\envs\\ece1786_cuda\\lib\\site-packages\\trulens\\feedback\\llm_provider.py:286: UserWarning: No supporting evidence provided. Returning score only.\n",
      "  warnings.warn(\n"
     ]
    }
   ],
   "source": [
    "with tru_recorder as recording:\n",
    "    for question in questions:\n",
    "        response = query_engine.query(question)"
   ]
  },
  {
   "cell_type": "code",
   "execution_count": 87,
   "id": "a3f72fc9-be39-42e5-b37a-ca5414a3fd2a",
   "metadata": {},
   "outputs": [],
   "source": [
    "records, feedback = tru.get_records_and_feedback(app_ids=[])"
   ]
  },
  {
   "cell_type": "code",
   "execution_count": 88,
   "id": "042b9823-7592-4704-b751-e61362e9fba8",
   "metadata": {},
   "outputs": [
    {
     "data": {
      "text/html": [
       "<div>\n",
       "<style scoped>\n",
       "    .dataframe tbody tr th:only-of-type {\n",
       "        vertical-align: middle;\n",
       "    }\n",
       "\n",
       "    .dataframe tbody tr th {\n",
       "        vertical-align: top;\n",
       "    }\n",
       "\n",
       "    .dataframe thead th {\n",
       "        text-align: right;\n",
       "    }\n",
       "</style>\n",
       "<table border=\"1\" class=\"dataframe\">\n",
       "  <thead>\n",
       "    <tr style=\"text-align: right;\">\n",
       "      <th></th>\n",
       "      <th>app_id</th>\n",
       "      <th>app_json</th>\n",
       "      <th>type</th>\n",
       "      <th>record_id</th>\n",
       "      <th>input</th>\n",
       "      <th>output</th>\n",
       "      <th>tags</th>\n",
       "      <th>record_json</th>\n",
       "      <th>cost_json</th>\n",
       "      <th>perf_json</th>\n",
       "      <th>...</th>\n",
       "      <th>Context Relevance feedback cost in USD</th>\n",
       "      <th>Groundedness</th>\n",
       "      <th>Groundedness_calls</th>\n",
       "      <th>Groundedness feedback cost in USD</th>\n",
       "      <th>app_name</th>\n",
       "      <th>app_version</th>\n",
       "      <th>latency</th>\n",
       "      <th>total_tokens</th>\n",
       "      <th>total_cost</th>\n",
       "      <th>cost_currency</th>\n",
       "    </tr>\n",
       "  </thead>\n",
       "  <tbody>\n",
       "    <tr>\n",
       "      <th>0</th>\n",
       "      <td>app_hash_6e8221fde876d15698298cea8c0d1bd6</td>\n",
       "      <td>{\"tru_class_info\": {\"name\": \"TruLlama\", \"modul...</td>\n",
       "      <td>RetrieverQueryEngine(llama_index.core.query_en...</td>\n",
       "      <td>record_hash_177e34e6decd4860448a1215b78ef060</td>\n",
       "      <td>\"How can I optimize Wave of Gold for clearing ...</td>\n",
       "      <td>\"Repeat\"</td>\n",
       "      <td>-</td>\n",
       "      <td>{\"record_id\": \"record_hash_177e34e6decd4860448...</td>\n",
       "      <td>{\"n_requests\": 8, \"n_successful_requests\": 29,...</td>\n",
       "      <td>{\"start_time\": \"2024-11-18T19:18:29.828951\", \"...</td>\n",
       "      <td>...</td>\n",
       "      <td>NaN</td>\n",
       "      <td>NaN</td>\n",
       "      <td>NaN</td>\n",
       "      <td>NaN</td>\n",
       "      <td>Direct Query Engine</td>\n",
       "      <td>base</td>\n",
       "      <td>10.619136</td>\n",
       "      <td>7373</td>\n",
       "      <td>0.028347</td>\n",
       "      <td>USD</td>\n",
       "    </tr>\n",
       "    <tr>\n",
       "      <th>1</th>\n",
       "      <td>app_hash_6e8221fde876d15698298cea8c0d1bd6</td>\n",
       "      <td>{\"tru_class_info\": {\"name\": \"TruLlama\", \"modul...</td>\n",
       "      <td>RetrieverQueryEngine(llama_index.core.query_en...</td>\n",
       "      <td>record_hash_0ee86dd1c7dbc14d9ce2f73f3e6be816</td>\n",
       "      <td>\"What is the most effective way to beat Maleni...</td>\n",
       "      <td>\"To defeat Malenia, Blade of Miquella during p...</td>\n",
       "      <td>-</td>\n",
       "      <td>{\"record_id\": \"record_hash_0ee86dd1c7dbc14d9ce...</td>\n",
       "      <td>{\"n_requests\": 8, \"n_successful_requests\": 29,...</td>\n",
       "      <td>{\"start_time\": \"2024-11-18T19:18:11.749184\", \"...</td>\n",
       "      <td>...</td>\n",
       "      <td>NaN</td>\n",
       "      <td>NaN</td>\n",
       "      <td>NaN</td>\n",
       "      <td>NaN</td>\n",
       "      <td>Direct Query Engine</td>\n",
       "      <td>base</td>\n",
       "      <td>17.861588</td>\n",
       "      <td>9445</td>\n",
       "      <td>0.042963</td>\n",
       "      <td>USD</td>\n",
       "    </tr>\n",
       "    <tr>\n",
       "      <th>2</th>\n",
       "      <td>app_hash_6e8221fde876d15698298cea8c0d1bd6</td>\n",
       "      <td>{\"tru_class_info\": {\"name\": \"TruLlama\", \"modul...</td>\n",
       "      <td>RetrieverQueryEngine(llama_index.core.query_en...</td>\n",
       "      <td>record_hash_40df582629e57434363658e241d1332a</td>\n",
       "      <td>\"How can I consistently parry the Crucible Kni...</td>\n",
       "      <td>\"To consistently parry the Crucible Knight Duo...</td>\n",
       "      <td>-</td>\n",
       "      <td>{\"record_id\": \"record_hash_40df582629e57434363...</td>\n",
       "      <td>{\"n_requests\": 8, \"n_successful_requests\": 29,...</td>\n",
       "      <td>{\"start_time\": \"2024-11-18T19:17:51.225664\", \"...</td>\n",
       "      <td>...</td>\n",
       "      <td>0.001000</td>\n",
       "      <td>NaN</td>\n",
       "      <td>NaN</td>\n",
       "      <td>NaN</td>\n",
       "      <td>Direct Query Engine</td>\n",
       "      <td>base</td>\n",
       "      <td>20.304302</td>\n",
       "      <td>10625</td>\n",
       "      <td>0.046865</td>\n",
       "      <td>USD</td>\n",
       "    </tr>\n",
       "    <tr>\n",
       "      <th>3</th>\n",
       "      <td>app_hash_6e8221fde876d15698298cea8c0d1bd6</td>\n",
       "      <td>{\"tru_class_info\": {\"name\": \"TruLlama\", \"modul...</td>\n",
       "      <td>RetrieverQueryEngine(llama_index.core.query_en...</td>\n",
       "      <td>record_hash_76bc8f598e501cdc09294496b99cc6f6</td>\n",
       "      <td>\"Is the Black Knife effective against Maliketh...</td>\n",
       "      <td>\"The Black Knife is still effective against Ma...</td>\n",
       "      <td>-</td>\n",
       "      <td>{\"record_id\": \"record_hash_76bc8f598e501cdc092...</td>\n",
       "      <td>{\"n_requests\": 8, \"n_successful_requests\": 29,...</td>\n",
       "      <td>{\"start_time\": \"2024-11-18T19:17:35.537114\", \"...</td>\n",
       "      <td>...</td>\n",
       "      <td>0.000937</td>\n",
       "      <td>NaN</td>\n",
       "      <td>NaN</td>\n",
       "      <td>NaN</td>\n",
       "      <td>Direct Query Engine</td>\n",
       "      <td>base</td>\n",
       "      <td>15.423280</td>\n",
       "      <td>9503</td>\n",
       "      <td>0.043137</td>\n",
       "      <td>USD</td>\n",
       "    </tr>\n",
       "    <tr>\n",
       "      <th>4</th>\n",
       "      <td>app_hash_6e8221fde876d15698298cea8c0d1bd6</td>\n",
       "      <td>{\"tru_class_info\": {\"name\": \"TruLlama\", \"modul...</td>\n",
       "      <td>RetrieverQueryEngine(llama_index.core.query_en...</td>\n",
       "      <td>record_hash_18f2006e72dc8a7457cdf47feccd2dad</td>\n",
       "      <td>\"How can I use the Nagakiba with the Unsheathe...</td>\n",
       "      <td>\"To maximize damage against agile bosses using...</td>\n",
       "      <td>-</td>\n",
       "      <td>{\"record_id\": \"record_hash_18f2006e72dc8a7457c...</td>\n",
       "      <td>{\"n_requests\": 8, \"n_successful_requests\": 29,...</td>\n",
       "      <td>{\"start_time\": \"2024-11-18T19:17:14.374625\", \"...</td>\n",
       "      <td>...</td>\n",
       "      <td>0.000973</td>\n",
       "      <td>0.071429</td>\n",
       "      <td>[{'args': {'source': '**Recommended Builds:**\n",
       "...</td>\n",
       "      <td>0.009349</td>\n",
       "      <td>Direct Query Engine</td>\n",
       "      <td>base</td>\n",
       "      <td>20.889367</td>\n",
       "      <td>12301</td>\n",
       "      <td>0.053485</td>\n",
       "      <td>USD</td>\n",
       "    </tr>\n",
       "  </tbody>\n",
       "</table>\n",
       "<p>5 rows × 26 columns</p>\n",
       "</div>"
      ],
      "text/plain": [
       "                                      app_id  \\\n",
       "0  app_hash_6e8221fde876d15698298cea8c0d1bd6   \n",
       "1  app_hash_6e8221fde876d15698298cea8c0d1bd6   \n",
       "2  app_hash_6e8221fde876d15698298cea8c0d1bd6   \n",
       "3  app_hash_6e8221fde876d15698298cea8c0d1bd6   \n",
       "4  app_hash_6e8221fde876d15698298cea8c0d1bd6   \n",
       "\n",
       "                                            app_json  \\\n",
       "0  {\"tru_class_info\": {\"name\": \"TruLlama\", \"modul...   \n",
       "1  {\"tru_class_info\": {\"name\": \"TruLlama\", \"modul...   \n",
       "2  {\"tru_class_info\": {\"name\": \"TruLlama\", \"modul...   \n",
       "3  {\"tru_class_info\": {\"name\": \"TruLlama\", \"modul...   \n",
       "4  {\"tru_class_info\": {\"name\": \"TruLlama\", \"modul...   \n",
       "\n",
       "                                                type  \\\n",
       "0  RetrieverQueryEngine(llama_index.core.query_en...   \n",
       "1  RetrieverQueryEngine(llama_index.core.query_en...   \n",
       "2  RetrieverQueryEngine(llama_index.core.query_en...   \n",
       "3  RetrieverQueryEngine(llama_index.core.query_en...   \n",
       "4  RetrieverQueryEngine(llama_index.core.query_en...   \n",
       "\n",
       "                                      record_id  \\\n",
       "0  record_hash_177e34e6decd4860448a1215b78ef060   \n",
       "1  record_hash_0ee86dd1c7dbc14d9ce2f73f3e6be816   \n",
       "2  record_hash_40df582629e57434363658e241d1332a   \n",
       "3  record_hash_76bc8f598e501cdc09294496b99cc6f6   \n",
       "4  record_hash_18f2006e72dc8a7457cdf47feccd2dad   \n",
       "\n",
       "                                               input  \\\n",
       "0  \"How can I optimize Wave of Gold for clearing ...   \n",
       "1  \"What is the most effective way to beat Maleni...   \n",
       "2  \"How can I consistently parry the Crucible Kni...   \n",
       "3  \"Is the Black Knife effective against Maliketh...   \n",
       "4  \"How can I use the Nagakiba with the Unsheathe...   \n",
       "\n",
       "                                              output tags  \\\n",
       "0                                           \"Repeat\"    -   \n",
       "1  \"To defeat Malenia, Blade of Miquella during p...    -   \n",
       "2  \"To consistently parry the Crucible Knight Duo...    -   \n",
       "3  \"The Black Knife is still effective against Ma...    -   \n",
       "4  \"To maximize damage against agile bosses using...    -   \n",
       "\n",
       "                                         record_json  \\\n",
       "0  {\"record_id\": \"record_hash_177e34e6decd4860448...   \n",
       "1  {\"record_id\": \"record_hash_0ee86dd1c7dbc14d9ce...   \n",
       "2  {\"record_id\": \"record_hash_40df582629e57434363...   \n",
       "3  {\"record_id\": \"record_hash_76bc8f598e501cdc092...   \n",
       "4  {\"record_id\": \"record_hash_18f2006e72dc8a7457c...   \n",
       "\n",
       "                                           cost_json  \\\n",
       "0  {\"n_requests\": 8, \"n_successful_requests\": 29,...   \n",
       "1  {\"n_requests\": 8, \"n_successful_requests\": 29,...   \n",
       "2  {\"n_requests\": 8, \"n_successful_requests\": 29,...   \n",
       "3  {\"n_requests\": 8, \"n_successful_requests\": 29,...   \n",
       "4  {\"n_requests\": 8, \"n_successful_requests\": 29,...   \n",
       "\n",
       "                                           perf_json  ...  \\\n",
       "0  {\"start_time\": \"2024-11-18T19:18:29.828951\", \"...  ...   \n",
       "1  {\"start_time\": \"2024-11-18T19:18:11.749184\", \"...  ...   \n",
       "2  {\"start_time\": \"2024-11-18T19:17:51.225664\", \"...  ...   \n",
       "3  {\"start_time\": \"2024-11-18T19:17:35.537114\", \"...  ...   \n",
       "4  {\"start_time\": \"2024-11-18T19:17:14.374625\", \"...  ...   \n",
       "\n",
       "  Context Relevance feedback cost in USD  Groundedness  \\\n",
       "0                                    NaN           NaN   \n",
       "1                                    NaN           NaN   \n",
       "2                               0.001000           NaN   \n",
       "3                               0.000937           NaN   \n",
       "4                               0.000973      0.071429   \n",
       "\n",
       "                                  Groundedness_calls  \\\n",
       "0                                                NaN   \n",
       "1                                                NaN   \n",
       "2                                                NaN   \n",
       "3                                                NaN   \n",
       "4  [{'args': {'source': '**Recommended Builds:**\n",
       "...   \n",
       "\n",
       "   Groundedness feedback cost in USD             app_name app_version  \\\n",
       "0                                NaN  Direct Query Engine        base   \n",
       "1                                NaN  Direct Query Engine        base   \n",
       "2                                NaN  Direct Query Engine        base   \n",
       "3                                NaN  Direct Query Engine        base   \n",
       "4                           0.009349  Direct Query Engine        base   \n",
       "\n",
       "     latency  total_tokens total_cost  cost_currency  \n",
       "0  10.619136          7373   0.028347            USD  \n",
       "1  17.861588          9445   0.042963            USD  \n",
       "2  20.304302         10625   0.046865            USD  \n",
       "3  15.423280          9503   0.043137            USD  \n",
       "4  20.889367         12301   0.053485            USD  \n",
       "\n",
       "[5 rows x 26 columns]"
      ]
     },
     "execution_count": 88,
     "metadata": {},
     "output_type": "execute_result"
    }
   ],
   "source": [
    "records.head()"
   ]
  },
  {
   "cell_type": "code",
   "execution_count": 89,
   "id": "bd6016b9-18b9-44cf-ab1d-fa16e9ca19f9",
   "metadata": {},
   "outputs": [
    {
     "name": "stdout",
     "output_type": "stream",
     "text": [
      "Starting dashboard ...\n"
     ]
    },
    {
     "name": "stderr",
     "output_type": "stream",
     "text": [
      "C:\\Users\\liuyq\\AppData\\Local\\Temp\\ipykernel_5040\\1552380249.py:1: DeprecationWarning: Method `run_dashboard` has been renamed or moved to `trulens.dashboard.run.run_dashboard`.\n",
      "\n",
      "  tru.run_dashboard()\n"
     ]
    },
    {
     "data": {
      "application/vnd.jupyter.widget-view+json": {
       "model_id": "aa72cf469a73459e8bdb4330648da381",
       "version_major": 2,
       "version_minor": 0
      },
      "text/plain": [
       "Accordion(children=(VBox(children=(VBox(children=(Label(value='STDOUT'), Output())), VBox(children=(Label(valu…"
      ]
     },
     "metadata": {},
     "output_type": "display_data"
    },
    {
     "name": "stdout",
     "output_type": "stream",
     "text": [
      "Dashboard started at http://192.168.2.11:59575 .\n"
     ]
    },
    {
     "data": {
      "text/plain": [
       "<Popen: returncode: None args: ['streamlit', 'run', '--server.headless=True'...>"
      ]
     },
     "execution_count": 89,
     "metadata": {},
     "output_type": "execute_result"
    }
   ],
   "source": [
    "tru.run_dashboard()"
   ]
  },
  {
   "cell_type": "code",
   "execution_count": null,
   "id": "a3ae02cf-4a84-4472-8f5f-72cf2741c4a7",
   "metadata": {},
   "outputs": [],
   "source": []
  }
 ],
 "metadata": {
  "kernelspec": {
   "display_name": "Python 3 (ipykernel)",
   "language": "python",
   "name": "python3"
  },
  "language_info": {
   "codemirror_mode": {
    "name": "ipython",
    "version": 3
   },
   "file_extension": ".py",
   "mimetype": "text/x-python",
   "name": "python",
   "nbconvert_exporter": "python",
   "pygments_lexer": "ipython3",
   "version": "3.10.14"
  }
 },
 "nbformat": 4,
 "nbformat_minor": 5
}
