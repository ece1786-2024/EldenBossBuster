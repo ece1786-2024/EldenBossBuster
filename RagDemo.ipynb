{
 "cells": [
  {
   "cell_type": "code",
   "execution_count": 2,
   "id": "86288fbf-867c-414e-9c7f-fba4ba2e873e",
   "metadata": {},
   "outputs": [],
   "source": [
    "from llama_index.core import StorageContext, load_index_from_storage\n",
    "\n",
    "# rebuild storage context\n",
    "storage_context = StorageContext.from_defaults(persist_dir=\"index/data\") # location of those json files\n",
    "\n",
    "# load index\n",
    "index = load_index_from_storage(storage_context)"
   ]
  },
  {
   "cell_type": "code",
   "execution_count": 3,
   "id": "c00ad30a-95e6-4380-921f-421793cdb488",
   "metadata": {},
   "outputs": [],
   "source": [
    "from llama_index.llms.openai import OpenAI\n",
    "\n",
    "llm = OpenAI(\n",
    "    model=\"gpt-4o\",\n",
    "    temperature=0.7,  # creativity\n",
    "    top_p=0.95,       # sampling diversity\n",
    "    frequency_penalty=0.2,  # reduce repetitive answers\n",
    "    num_outputs=1000, # tokens in the output\n",
    ")"
   ]
  },
  {
   "cell_type": "code",
   "execution_count": 4,
   "id": "b637e8ca-5e7c-4ece-b936-f2e87d2ff654",
   "metadata": {},
   "outputs": [],
   "source": [
    "query_enginge = index.as_query_engine(response_mode=\"refine\", similarity_top_k=5, verbose = True, llm = llm)"
   ]
  },
  {
   "cell_type": "code",
   "execution_count": 11,
   "id": "c2a19a23-7a6d-4665-ae7f-b433f9b96ecc",
   "metadata": {},
   "outputs": [],
   "source": [
    "response = query_enginge.query(\"Recommended full set of equipment for playing with Unsheathe\")"
   ]
  },
  {
   "cell_type": "code",
   "execution_count": 12,
   "id": "2a57588e-e926-4fd5-985d-c37085c516f8",
   "metadata": {},
   "outputs": [
    {
     "name": "stdout",
     "output_type": "stream",
     "text": [
      "A recommended full set of equipment for playing with Unsheathe would be to use Katanas, as Unsheathe can be used on Katanas.\n"
     ]
    }
   ],
   "source": [
    "print(response)"
   ]
  }
 ],
 "metadata": {
  "kernelspec": {
   "display_name": "Python 3 (ipykernel)",
   "language": "python",
   "name": "python3"
  },
  "language_info": {
   "codemirror_mode": {
    "name": "ipython",
    "version": 3
   },
   "file_extension": ".py",
   "mimetype": "text/x-python",
   "name": "python",
   "nbconvert_exporter": "python",
   "pygments_lexer": "ipython3",
   "version": "3.10.14"
  }
 },
 "nbformat": 4,
 "nbformat_minor": 5
}
