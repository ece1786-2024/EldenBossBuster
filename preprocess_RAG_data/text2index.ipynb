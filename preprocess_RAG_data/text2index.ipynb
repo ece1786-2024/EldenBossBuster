{
 "cells": [
  {
   "cell_type": "code",
   "execution_count": 1,
   "id": "12879370-a84e-4a01-b176-e823698af313",
   "metadata": {},
   "outputs": [],
   "source": [
    "from llama_index.core import Document\n",
    "from langchain.text_splitter import RecursiveCharacterTextSplitter\n",
    "from llama_index.core import VectorStoreIndex"
   ]
  },
  {
   "cell_type": "code",
   "execution_count": 2,
   "id": "10ac00ea-6777-45f5-8537-d01f585836ca",
   "metadata": {},
   "outputs": [],
   "source": [
    "def load_text_file(file_path):\n",
    "    with open(file_path, \"r\", encoding=\"utf-8\") as file:\n",
    "        return file.read()\n",
    "    \n",
    "file_1_path = \"structured_equipments_guides_cleaned.txt\"\n",
    "file_2_path = \"structured_guides_cleaned.txt\"\n",
    "file_3_path = \"kaggle_data.txt\"\n",
    "text_1 = load_text_file(file_1_path)\n",
    "text_2 = load_text_file(file_2_path)\n",
    "text_3 = load_text_file(file_3_path)\n",
    "\n",
    "youtube_text = text_1 + \"\\n\" + text_2\n",
    "kaggle_text = text_3\n",
    "all_text = youtube_text + \"\\n\" + kaggle_text"
   ]
  },
  {
   "cell_type": "code",
   "execution_count": 9,
   "id": "bb9216c5",
   "metadata": {},
   "outputs": [],
   "source": [
    "# split text into chunks\n",
    "text_splitter = RecursiveCharacterTextSplitter(chunk_size=500, chunk_overlap=50)\n",
    "youtube_chunks = text_splitter.split_text(youtube_text)\n",
    "# kaggle_chunks = [chunk.strip() for chunk in kaggle_text.split(\"\\n\") if chunk.strip()]\n",
    "kaggle_chunks = text_splitter.split_text(kaggle_text)\n",
    "all_chunks = text_splitter.split_text(all_text)"
   ]
  },
  {
   "cell_type": "code",
   "execution_count": 10,
   "id": "a0b948e8",
   "metadata": {},
   "outputs": [
    {
     "name": "stdout",
     "output_type": "stream",
     "text": [
      "3607\n",
      "123840\n",
      "127447\n"
     ]
    }
   ],
   "source": [
    "print(len(youtube_chunks))\n",
    "print(len(kaggle_chunks))\n",
    "print(len(all_chunks))"
   ]
  },
  {
   "cell_type": "code",
   "execution_count": 11,
   "id": "29adc6cf",
   "metadata": {},
   "outputs": [],
   "source": [
    "def chunk2index(chunks):\n",
    "    documents = [Document(text=chunk) for chunk in chunks]\n",
    "    index = VectorStoreIndex.from_documents(documents)\n",
    "    return index\n"
   ]
  },
  {
   "cell_type": "code",
   "execution_count": 12,
   "id": "2815d575-9b01-43ca-8b25-3edabd1f9a25",
   "metadata": {},
   "outputs": [],
   "source": [
    "# get index and save\n",
    "youtube_path = \"../index/strategy\"\n",
    "kaggle_path = \"../index/game\"\n",
    "all_path = \"../index/altogether\""
   ]
  },
  {
   "cell_type": "code",
   "execution_count": 7,
   "id": "d5d8f769",
   "metadata": {},
   "outputs": [],
   "source": [
    "youtube_index = chunk2index(youtube_chunks)\n",
    "youtube_index.storage_context.persist(persist_dir=youtube_path)"
   ]
  },
  {
   "cell_type": "code",
   "execution_count": 13,
   "id": "668e0726",
   "metadata": {},
   "outputs": [],
   "source": [
    "kaggle_index = chunk2index(kaggle_chunks)\n",
    "kaggle_index.storage_context.persist(persist_dir=kaggle_path)"
   ]
  },
  {
   "cell_type": "code",
   "execution_count": null,
   "id": "b0f41a93",
   "metadata": {},
   "outputs": [],
   "source": [
    "# all_index = chunk2index(all_chunks)\n",
    "# all_index.storage_context.persist(persist_dir=all_path)"
   ]
  }
 ],
 "metadata": {
  "kernelspec": {
   "display_name": "Python 3 (ipykernel)",
   "language": "python",
   "name": "python3"
  },
  "language_info": {
   "codemirror_mode": {
    "name": "ipython",
    "version": 3
   },
   "file_extension": ".py",
   "mimetype": "text/x-python",
   "name": "python",
   "nbconvert_exporter": "python",
   "pygments_lexer": "ipython3",
   "version": "3.12.7"
  }
 },
 "nbformat": 4,
 "nbformat_minor": 5
}
